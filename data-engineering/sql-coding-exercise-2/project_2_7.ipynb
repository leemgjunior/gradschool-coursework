{
 "cells": [
  {
   "cell_type": "markdown",
   "id": "3f465500",
   "metadata": {},
   "source": [
    "# Project 2, Part 7, Analysis on continuing to withhold customer data from 3rd parties\n",
    "\n",
    "University of California, Berkeley\n",
    "\n",
    "Master of Information and Data Science (MIDS) program\n",
    "\n",
    "w205 - Fundamentals of Data Engineering\n"
   ]
  },
  {
   "cell_type": "markdown",
   "id": "1cf92eab",
   "metadata": {},
   "source": [
    "# 2.7 Analysis on continuing to withhold customer data from 3rd parties\n",
    "\n",
    "As stated in the scenario, like most companies, AGM does not want to give out its customer list to 3rd party sales channels.  The downside is, as we have seen, that customer first names, last names, and street addresses will have some variations and not be exact matches.\n",
    "\n",
    "The data science team would like your analysis of both options:\n",
    "\n",
    "1)  Continue to withhold the customer data from 3rd party sales channels\n",
    "\n",
    "2)  Give customer data to 3rd party sales channels\n",
    "\n",
    "The data science team would also like your recommendation on which option you think is best.\n",
    "\n",
    "In the markdown cell,you must provide:\n",
    "* A meaningful title\n",
    "* Write a paragraph of 3 to 10 sentences for option 1.\n",
    "* Write a paragraph of 3 to 10 sentences for option 2.\n",
    "* Write a paragraph of 3 to 10 sentences with your recommendation.\n",
    "\n",
    "You are not required to write any queries nor any code nor create any data visualizations.  Simply provide English text.\n",
    "\n",
    "Hints: \n",
    "* Consider the percentage of unmatched and how impactful that would be if we scale out\n",
    "* Consider how hard or how easy it would be to correct the unmatched based on what we have seen so far\n",
    "* Does the ability to correct ummatched sufficiently mitigate the percentage of unmatched such that we can continue to withhold customer data?\n"
   ]
  },
  {
   "cell_type": "markdown",
   "id": "c8086a63",
   "metadata": {},
   "source": [
    "# The Hidden Cost of Third-Party Data Access\n",
    "\n",
    "Withholding data from third-party partners provides the benefit of securing our customer data and client demand. This ensures valued customer privacy is retained, preventing Peak and other vendors from capitalizing on this information to sell directly to our clients. The maintenance of this current methodology does not require significant overhead to maintain either.\n",
    "\n",
    "The benefits of providing customer data to third-party vendors would cut back on delivery inefficiencies. Roughly 13% of customers end up unmatched, potentially accounting for a net loss of $868 on the $6,480 in net sales AGM generates for delivery. These numbers can grow beyond the subgroup of mismatched customers as word of mouth spreads of poor customer service, missed deliveries, and refunds are processed. \n",
    "\n",
    "At the very least, it would be beneficial for AGM and Peak to agree on an intermediate option. There is an opportunity for AGM to maintain customer privacy and integrate Peaks customer records to match up consistently with AGM. One solution to this problem is developing a customer mapping table that allows AGM to map customer address changes between systems using a shared key without disclosing customer information. This would allow for more accurate data quality corrections. Since the number of inaccurate records is low, these could be corrected manually, and a customer key would serve the ongoing purpose of maintaining consistency between both systems. \n",
    "\n"
   ]
  }
 ],
 "metadata": {
  "kernelspec": {
   "display_name": "Python 3 (ipykernel)",
   "language": "python",
   "name": "python3"
  },
  "language_info": {
   "codemirror_mode": {
    "name": "ipython",
    "version": 3
   },
   "file_extension": ".py",
   "mimetype": "text/x-python",
   "name": "python",
   "nbconvert_exporter": "python",
   "pygments_lexer": "ipython3",
   "version": "3.9.7"
  }
 },
 "nbformat": 4,
 "nbformat_minor": 5
}
