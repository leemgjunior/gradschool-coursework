{
 "cells": [
  {
   "cell_type": "markdown",
   "id": "cd11da2a",
   "metadata": {},
   "source": [
    "# Project 1, Part 6, Identifying Best Customers\n"
   ]
  },
  {
   "cell_type": "markdown",
   "id": "701f1c25",
   "metadata": {},
   "source": [
    "# 1.6 Ideas on how the sales data can be used to help identify best customers\n",
    "\n",
    "The data science team would like to know your best ideas on how the sales data can be used to help identify the company's best customers.\n",
    "\n",
    "\n",
    "\n",
    "They are going to start with the most common and most basic model known as RFM, which consists of the 3 dimensions.\n",
    "\n",
    "* R - Recency - How recently did the customer purchase?\n",
    "\n",
    "* F - Frequency - How often do they purchase?\n",
    "\n",
    "* M - Monetary Value - How much do they spend?\n",
    "\n",
    "\n",
    "\n",
    "At first glance, it's pretty easy to think of a simple query for each dimension.\n",
    "\n",
    "However, after some thought, it's not quite so easy. It's very open ended, with a lot of grey areas, and no single right or wrong answer (just like 99% of data science and AI!)  For each dimension, there can be some pretty complex ways to determine.\n",
    "\n",
    "The data science team also has to come up with a way to synthesize the 3 dimensions into a single customer value for each customer.\n",
    "\n",
    "\n",
    "\n",
    "The data science team would like for you to present your ideas in the form of 4 paragraphs as follows:\n",
    "\n",
    "* Recency - A paragraph of 3 to 5 sentences briefly explaining your ideas on how the data can be used to determine recency.  \n",
    "\n",
    "* Frequency - A paragraph of 3 to 5 sentences briefly explaining your ideas on how the data can be used to determine frequency.\n",
    "\n",
    "* Monetary Value - A paragraph of 3 to 5 sentences briefly explaining your ideas on how the data can be used to determine monetary value.\n",
    "\n",
    "* Synthesis - A paragraph of 3 to 5 sentences briefly explaining your ideas on how to synthesize the 3 dimensions of recency, frequency, and monetary value into a customer value for each customer and how to determine who the best customers are.\n",
    "\n",
    "\n",
    "\n",
    "Put all 4 paragraphs in a single markdown cell.\n",
    "\n",
    "Note that you do not write code for this, only english language descriptions of your ideas.\n",
    "\n"
   ]
  },
  {
   "cell_type": "markdown",
   "id": "67dd986f",
   "metadata": {},
   "source": [
    "# Replace this with your title\n",
    "\n",
    "Replace this with your 4 paragraphs"
   ]
  },
  {
   "cell_type": "code",
   "execution_count": null,
   "id": "c4e9b7c3",
   "metadata": {},
   "outputs": [],
   "source": [
    "Recency\n",
    "Product sales dates or order dates would be ideal for capturing recency. \n",
    "We can first determine what, if any, date columns exist for each product sale. \n",
    "Ideally, the product sale table would reflect the date a customer purchased a \n",
    "product providing the most relevant attribute to study sales recency. \n",
    "However, there could be instances where this data can be extrapolated \n",
    "from other columns if this information isn't available. \n",
    "Unique identifiers and ordinal categories that identify periods in time, \n",
    "like seasons and fiscal periods, in conjunction with a value that distinguishes \n",
    "the year of the purchase, can also be used to determine the recency of purchase.\n",
    "\n",
    "\n",
    "Frequency\n",
    "The most intuitive way to capture the frequency of a customer's purchases would \n",
    "be to identify a table representing the customer, or it can be used as a proxy to \n",
    "describe a unique customer. Ideally, this would involve a unique identifier for \n",
    "customer counts by a unique identifying field for each customer represented in each \n",
    "purchase transaction. Counting each instance of a transaction and grouping it by the \n",
    "customer's unique customer Identifier would allow us to count the number of sales \n",
    "transactions represented for each customer ID.\n",
    "\n",
    "\n",
    "Monetary\n",
    "To capture a monetary transaction, we first need to identify the table that captures \n",
    "the value of a transaction and its relationship to a customer's sales transaction. \n",
    "Sales data determining the value of a sale may not always represent this value in the \n",
    "sales transaction table. It could potentially be a child table to the table that \n",
    "represents the transaction (or sale). Once we've determined the relationship that \n",
    "exists, we may be required to decide whether or not it's necessary to isolate a specific \n",
    "transaction from a transaction. If multiple values can be represented in a transaction, \n",
    "it would be best to aggregate these, possibly in a separate inline view or cte, \n",
    "and then join them back to the sales transaction so each transaction can have one value.  \n",
    "\n",
    "\n",
    "\n",
    "Synthesis\n",
    "\n",
    "The type of distribution can be critical to this type of analysis. It may first be \n",
    "necessary to understand whether any outliers exist or normalization may be needed for \n",
    "data with inconsistent groupings at different thresholds. We can determine the best \n",
    "method of categorizing customer recency; one suggestion is encoding integer categories \n",
    "from -3 to +3 based on the tiers (or thresholds) of standard deviation. Another tip \n",
    "would be to assess the value of \"weights\" that each multiplier should be attributed \n",
    "and the interval these weights should have; one suggestion is applying weights from 0 to 1.\n",
    "The aggregate of these multipliers multiplied by their respective weights can then be \n",
    "used to multiply by the total monetary value of each customer. \n",
    "Tiers of value can categorize the result of these values, and these values can be \n",
    "hardcoded using arbitrary tiers or normalized and categorized using stand deviations.\n"
   ]
  }
 ],
 "metadata": {
  "kernelspec": {
   "display_name": "Python 3 (ipykernel)",
   "language": "python",
   "name": "python3"
  },
  "language_info": {
   "codemirror_mode": {
    "name": "ipython",
    "version": 3
   },
   "file_extension": ".py",
   "mimetype": "text/x-python",
   "name": "python",
   "nbconvert_exporter": "python",
   "pygments_lexer": "ipython3",
   "version": "3.9.7"
  }
 },
 "nbformat": 4,
 "nbformat_minor": 5
}
