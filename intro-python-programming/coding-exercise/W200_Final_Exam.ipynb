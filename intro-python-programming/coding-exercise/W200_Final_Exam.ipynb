{
 "cells": [
  {
   "cell_type": "markdown",
   "metadata": {
    "pycharm": {
     "name": "#%% md\n"
    }
   },
   "source": [
    "# W200 Introduction to Data Science Programming, UC Berkeley MIDS\n",
    "\n",
    "\n",
    "## Instructions\n",
    "The final exam is designed to evaluate your grasp of Python theory as well as Python coding.\n",
    "\n",
    "- This is an individual exam.\n",
    "- You have 48 hours to complete the exam, starting from the point at which you first access it.\n",
    "- You will be graded on the quality of your answers.  Use clear, persuasive arguments based on concepts we covered in class.\n",
    "- Please double-click the markdown cells where it says \"Your answer here\" to input answers (if you need more cells please make them markdown cells)\n",
    "- Use only Python standard libraries, matplotlib, seaborn, NumPy and Pandas for this exam\n",
    "- Upload your exam to gradescope and your github repo in the folder /SUBMISSIONS/final_exam/. **The code version uploaded to Part 2 will be your official version for grading purposes.**\n",
    "- There is no autograder for this notebook - your exam will be manually graded.\n",
    "- Please restart and run all cells before submitting so that all of your answers are shown. You do not need to upload the dataset into gradescope or github."
   ]
  },
  {
   "cell_type": "markdown",
   "metadata": {
    "pycharm": {
     "name": "#%% md\n"
    }
   },
   "source": [
    "## YOUR NAME HERE"
   ]
  },
  {
   "cell_type": "markdown",
   "metadata": {
    "pycharm": {
     "name": "#%% md\n"
    }
   },
   "source": [
    "## 1: Short Answer Questions (25 pts - each question = 5 pts)\n",
    "\n",
    "a) The following class ```Cart``` and method ```add_to_cart``` are parts of a larger program used by a mobile phone company.  The method ```add_to_cart``` will work when an object of type MobileDevice or of type ServiceContract is passed to it. State whether the method ```add_to_cart``` is a demonstration of the following items (yes/no) and the reasoning (1-2 sentences): \n",
    "\n",
    "    1. Inheritance\n",
    "    2. Polymorphism\n",
    "    3. Object-Oriented programming\n",
    "    4. Top-down design\n",
    "    5. Functional programming"
   ]
  },
  {
   "cell_type": "code",
   "execution_count": 1,
   "metadata": {
    "pycharm": {
     "name": "#%%\n"
    }
   },
   "outputs": [],
   "source": [
    "# Method:\n",
    "class Cart():\n",
    "    \n",
    "    def __init__(self):\n",
    "        self.cart = []\n",
    "        self.total = 0\n",
    "    \n",
    "    def add_to_cart(self, item):\n",
    "        self.cart.append(item)\n",
    "        self.total += item.price"
   ]
  },
  {
   "cell_type": "markdown",
   "metadata": {
    "pycharm": {
     "name": "#%% md\n"
    }
   },
   "source": [
    "- a) Your answer here\n",
    "\n",
    "\n",
    "1. Inheritance: No, inheritance is when you have a parent and child class that inherits attributes and methods from the parent class, in this instance we have a single class.\n",
    "2. Polymorphism: Yes, there may be according ot the second sentenence that suggests this MobileDevice and ServiceContract object classes can be passed to the add_to_cart() method in this parent Cart() class.\n",
    "3. Object-Oriented programming: Yes, the objects attributes are called in the method with the keyword self, this is object oriented programming.\n",
    "4. Top-down design: No, we're not systematically breaking down a larger more complex problem into smaller more manageable sub problems.\n",
    "5. Functional programming: No, this is not functional programming because functional programming does not have a concept of class. "
   ]
  },
  {
   "cell_type": "markdown",
   "metadata": {
    "pycharm": {
     "name": "#%% md\n"
    }
   },
   "source": [
    "b) Suppose you have a long list of digits (0-9) that you want to write to a file.  From a storage standpoint, would it be more efficient to use ASCII or UTF-8 as an encoding? What is the most efficient way to create an even smaller file to store the information?"
   ]
  },
  {
   "cell_type": "markdown",
   "metadata": {
    "pycharm": {
     "name": "#%% md\n"
    }
   },
   "source": [
    "- b) From a storage standpoint when you have a long list of digits, theres no difference in storage size between ASCII or UTF-8. Huffman coding algorithm is a data compression algorithm that can create an even smaller file to store the information.  Unlike the either encoding that uses exactly eight bits to encode each character, a Huffman code uses a variable number of bits for each character."
   ]
  },
  {
   "cell_type": "markdown",
   "metadata": {
    "pycharm": {
     "name": "#%% md\n"
    }
   },
   "source": [
    "c) How would you sanity-check your data? Why is it important to sanity-check your data before you begin your analysis? What could happen if you don't?"
   ]
  },
  {
   "cell_type": "markdown",
   "metadata": {
    "pycharm": {
     "name": "#%% md\n"
    }
   },
   "source": [
    "- c) You would need to check for datatype, or datatype mismatches, variations in how values are entered, missing values, and duplicate values or outliers in the data. Because wrong datasets can significantly impact the analysis and draw an incorrect solution or prediction. "
   ]
  },
  {
   "cell_type": "markdown",
   "metadata": {
    "pycharm": {
     "name": "#%% md\n"
    }
   },
   "source": [
    "d) How do you determine which variables in your dataset you should check for issues prior to starting an analysis? "
   ]
  },
  {
   "cell_type": "markdown",
   "metadata": {
    "pycharm": {
     "name": "#%% md\n"
    }
   },
   "source": [
    "- d) You would start by identifying which variables are most valuable to the analysis or data model using variable-importance measures."
   ]
  },
  {
   "cell_type": "markdown",
   "metadata": {
    "pycharm": {
     "name": "#%% md\n"
    }
   },
   "source": [
    "e1) Explain why the following code prints what it does."
   ]
  },
  {
   "cell_type": "code",
   "execution_count": 2,
   "metadata": {
    "pycharm": {
     "name": "#%%\n"
    }
   },
   "outputs": [
    {
     "name": "stdout",
     "output_type": "stream",
     "text": [
      "<class 'function'>\n"
     ]
    }
   ],
   "source": [
    "def g(): pass\n",
    "print(type(g))"
   ]
  },
  {
   "cell_type": "markdown",
   "metadata": {
    "pycharm": {
     "name": "#%% md\n"
    }
   },
   "source": [
    "- e1) This is a function address, the code prints an empty function because the keyword def is used to define the function and the letter g is followed by parenthesis and semicolons."
   ]
  },
  {
   "cell_type": "markdown",
   "metadata": {
    "pycharm": {
     "name": "#%% md\n"
    }
   },
   "source": [
    "e2) Explain why the following code prints something different."
   ]
  },
  {
   "cell_type": "code",
   "execution_count": 3,
   "metadata": {
    "pycharm": {
     "name": "#%%\n"
    }
   },
   "outputs": [
    {
     "name": "stdout",
     "output_type": "stream",
     "text": [
      "<class 'NoneType'>\n"
     ]
    }
   ],
   "source": [
    "def g(): pass\n",
    "print(type(g()))"
   ]
  },
  {
   "cell_type": "markdown",
   "metadata": {
    "pycharm": {
     "name": "#%% md\n"
    }
   },
   "source": [
    "- e2) This is a function call, it executes and generates the value pass which produces a NoneType class type. "
   ]
  },
  {
   "cell_type": "markdown",
   "metadata": {
    "pycharm": {
     "name": "#%% md\n"
    }
   },
   "source": [
    "## 2:  General Coding Questions (15 pts - each question 5 pts)"
   ]
  },
  {
   "cell_type": "markdown",
   "metadata": {
    "pycharm": {
     "name": "#%% md\n"
    }
   },
   "source": [
    "a) Using a dictionary comprehension, make a dictionary with the keys being the lowercase vowels (aeiou) and the values being the number of vowels in the example_text (case insensitive). Fill in a dictionary comprehension below so that we get this desired output.\n",
    "\n",
    "```\n",
    "example_text = 'Outlook is bright!'\n",
    "```\n",
    "\n",
    "expected output:\n",
    "```\n",
    "{'i': 2, 'o': 3, 'u': 1}\n",
    "\n",
    "or\n",
    "\n",
    "{'a': 0, 'e': 0, 'i': 2, 'o': 3, 'u': 1}\n",
    "```"
   ]
  },
  {
   "cell_type": "code",
   "execution_count": 4,
   "metadata": {
    "pycharm": {
     "name": "#%%\n"
    }
   },
   "outputs": [
    {
     "name": "stdout",
     "output_type": "stream",
     "text": [
      "{'a': 0, 'e': 1, 'i': 3, 'o': 3, 'u': 0}\n"
     ]
    }
   ],
   "source": [
    "example_text = \"I love coding in python!\"\n",
    "\n",
    "\n",
    "# 2a) Your code here\n",
    "example_dictionary = { letter : example_text.lower().count(letter) for letter in ['a', 'e', 'i', 'o', 'u'] }\n",
    "\n",
    "print(example_dictionary)"
   ]
  },
  {
   "cell_type": "markdown",
   "metadata": {
    "pycharm": {
     "name": "#%% md\n"
    }
   },
   "source": [
    "b) Below is a data frame of customers that have different cooling systems. Your data science team lead wants the column ```cooling_system``` to be labeled with the integer numbers 1-4 instead of the text as shown below:\n",
    "\n",
    "- 1 = Air Conditioning / Air Con / AC\n",
    "- 2 = Heat Pump / HP\n",
    "- 3 = Evaporative Cooler / EvapCooler / EC\n",
    "- 4 = Fan\n",
    "\n",
    "Make a new column called ```cooling_type``` that maps the text values to the new numeric values. Filter out / remove rows with the values that are not included in the mapping above. Print out/display this new data frame. Be sure to list any assumptions also!"
   ]
  },
  {
   "cell_type": "code",
   "execution_count": 5,
   "metadata": {
    "pycharm": {
     "name": "#%%\n"
    }
   },
   "outputs": [
    {
     "data": {
      "text/html": [
       "<div>\n",
       "<style scoped>\n",
       "    .dataframe tbody tr th:only-of-type {\n",
       "        vertical-align: middle;\n",
       "    }\n",
       "\n",
       "    .dataframe tbody tr th {\n",
       "        vertical-align: top;\n",
       "    }\n",
       "\n",
       "    .dataframe thead th {\n",
       "        text-align: right;\n",
       "    }\n",
       "</style>\n",
       "<table border=\"1\" class=\"dataframe\">\n",
       "  <thead>\n",
       "    <tr style=\"text-align: right;\">\n",
       "      <th></th>\n",
       "      <th>Cust_Number</th>\n",
       "      <th>Cooling_System</th>\n",
       "    </tr>\n",
       "  </thead>\n",
       "  <tbody>\n",
       "    <tr>\n",
       "      <th>0</th>\n",
       "      <td>101</td>\n",
       "      <td>AC</td>\n",
       "    </tr>\n",
       "    <tr>\n",
       "      <th>1</th>\n",
       "      <td>102</td>\n",
       "      <td>Heat Pump</td>\n",
       "    </tr>\n",
       "    <tr>\n",
       "      <th>2</th>\n",
       "      <td>103</td>\n",
       "      <td>Air Con</td>\n",
       "    </tr>\n",
       "    <tr>\n",
       "      <th>3</th>\n",
       "      <td>104</td>\n",
       "      <td>Air Conditioning</td>\n",
       "    </tr>\n",
       "    <tr>\n",
       "      <th>4</th>\n",
       "      <td>105</td>\n",
       "      <td>Fan</td>\n",
       "    </tr>\n",
       "    <tr>\n",
       "      <th>5</th>\n",
       "      <td>106</td>\n",
       "      <td>None</td>\n",
       "    </tr>\n",
       "    <tr>\n",
       "      <th>6</th>\n",
       "      <td>107</td>\n",
       "      <td>EvapCooler</td>\n",
       "    </tr>\n",
       "    <tr>\n",
       "      <th>7</th>\n",
       "      <td>108</td>\n",
       "      <td>None</td>\n",
       "    </tr>\n",
       "    <tr>\n",
       "      <th>8</th>\n",
       "      <td>109</td>\n",
       "      <td>EC</td>\n",
       "    </tr>\n",
       "    <tr>\n",
       "      <th>9</th>\n",
       "      <td>110</td>\n",
       "      <td>Evaporative Cooler</td>\n",
       "    </tr>\n",
       "    <tr>\n",
       "      <th>10</th>\n",
       "      <td>111</td>\n",
       "      <td>geothermal</td>\n",
       "    </tr>\n",
       "    <tr>\n",
       "      <th>11</th>\n",
       "      <td>112</td>\n",
       "      <td>8</td>\n",
       "    </tr>\n",
       "    <tr>\n",
       "      <th>12</th>\n",
       "      <td>113</td>\n",
       "      <td>Air Con</td>\n",
       "    </tr>\n",
       "  </tbody>\n",
       "</table>\n",
       "</div>"
      ],
      "text/plain": [
       "    Cust_Number      Cooling_System\n",
       "0           101                  AC\n",
       "1           102           Heat Pump\n",
       "2           103             Air Con\n",
       "3           104    Air Conditioning\n",
       "4           105                 Fan\n",
       "5           106                None\n",
       "6           107          EvapCooler\n",
       "7           108                None\n",
       "8           109                  EC\n",
       "9           110  Evaporative Cooler\n",
       "10          111          geothermal\n",
       "11          112                   8\n",
       "12          113             Air Con"
      ]
     },
     "execution_count": 5,
     "metadata": {},
     "output_type": "execute_result"
    }
   ],
   "source": [
    "import pandas\n",
    "\n",
    "# creating a data frame from scratch - list of lists\n",
    "\n",
    "data = [ \n",
    "         [101, 'AC'], \n",
    "         [102, 'Heat Pump'], \n",
    "         [103, 'Air Con'], \n",
    "         [104, 'Air Conditioning'],\n",
    "         [105, 'Fan'],\n",
    "         [106, 'None'],\n",
    "         [107, 'EvapCooler'],\n",
    "         [108, None],\n",
    "         [109, 'EC'],\n",
    "         [110, 'Evaporative Cooler'],\n",
    "         [111, 'geothermal'],\n",
    "         [112, 8],\n",
    "         [113, 'Air Con']\n",
    "       ]\n",
    "\n",
    "# create a data frame with column names - list of lists\n",
    "\n",
    "col_names = ['Cust_Number', 'Cooling_System']\n",
    "df = pandas.DataFrame(data, columns=col_names)\n",
    "df"
   ]
  },
  {
   "cell_type": "code",
   "execution_count": 6,
   "metadata": {
    "pycharm": {
     "name": "#%%\n"
    }
   },
   "outputs": [
    {
     "data": {
      "text/html": [
       "<div>\n",
       "<style scoped>\n",
       "    .dataframe tbody tr th:only-of-type {\n",
       "        vertical-align: middle;\n",
       "    }\n",
       "\n",
       "    .dataframe tbody tr th {\n",
       "        vertical-align: top;\n",
       "    }\n",
       "\n",
       "    .dataframe thead th {\n",
       "        text-align: right;\n",
       "    }\n",
       "</style>\n",
       "<table border=\"1\" class=\"dataframe\">\n",
       "  <thead>\n",
       "    <tr style=\"text-align: right;\">\n",
       "      <th></th>\n",
       "      <th>Cust_Number</th>\n",
       "      <th>Cooling_System</th>\n",
       "      <th>cooling_type</th>\n",
       "    </tr>\n",
       "  </thead>\n",
       "  <tbody>\n",
       "    <tr>\n",
       "      <th>0</th>\n",
       "      <td>101</td>\n",
       "      <td>AC</td>\n",
       "      <td>1</td>\n",
       "    </tr>\n",
       "    <tr>\n",
       "      <th>1</th>\n",
       "      <td>102</td>\n",
       "      <td>Heat Pump</td>\n",
       "      <td>2</td>\n",
       "    </tr>\n",
       "    <tr>\n",
       "      <th>2</th>\n",
       "      <td>103</td>\n",
       "      <td>Air Con</td>\n",
       "      <td>1</td>\n",
       "    </tr>\n",
       "    <tr>\n",
       "      <th>3</th>\n",
       "      <td>104</td>\n",
       "      <td>Air Conditioning</td>\n",
       "      <td>1</td>\n",
       "    </tr>\n",
       "    <tr>\n",
       "      <th>4</th>\n",
       "      <td>105</td>\n",
       "      <td>Fan</td>\n",
       "      <td>4</td>\n",
       "    </tr>\n",
       "    <tr>\n",
       "      <th>6</th>\n",
       "      <td>107</td>\n",
       "      <td>EvapCooler</td>\n",
       "      <td>3</td>\n",
       "    </tr>\n",
       "    <tr>\n",
       "      <th>8</th>\n",
       "      <td>109</td>\n",
       "      <td>EC</td>\n",
       "      <td>3</td>\n",
       "    </tr>\n",
       "    <tr>\n",
       "      <th>9</th>\n",
       "      <td>110</td>\n",
       "      <td>Evaporative Cooler</td>\n",
       "      <td>3</td>\n",
       "    </tr>\n",
       "    <tr>\n",
       "      <th>12</th>\n",
       "      <td>113</td>\n",
       "      <td>Air Con</td>\n",
       "      <td>1</td>\n",
       "    </tr>\n",
       "  </tbody>\n",
       "</table>\n",
       "</div>"
      ],
      "text/plain": [
       "    Cust_Number      Cooling_System  cooling_type\n",
       "0           101                  AC             1\n",
       "1           102           Heat Pump             2\n",
       "2           103             Air Con             1\n",
       "3           104    Air Conditioning             1\n",
       "4           105                 Fan             4\n",
       "6           107          EvapCooler             3\n",
       "8           109                  EC             3\n",
       "9           110  Evaporative Cooler             3\n",
       "12          113             Air Con             1"
      ]
     },
     "execution_count": 6,
     "metadata": {},
     "output_type": "execute_result"
    }
   ],
   "source": [
    "# 2b) Your code here\n",
    "import numpy as np\n",
    "CoolSys = { 'Air Conditioning': 1,'Air Con': 1,'AC' : 1,\n",
    "           'Heat Pump': 2, 'HP': 2,\n",
    "           'Evaporative Cooler': 3, 'EvapCooler': 3, 'EC': 3,\n",
    "           'Fan': 4 \n",
    "}\n",
    "\n",
    "df['cooling_type']= np.int8(df['Cooling_System'].map(CoolSys))\n",
    "df[df['cooling_type'] != 0]"
   ]
  },
  {
   "cell_type": "markdown",
   "metadata": {
    "pycharm": {
     "name": "#%% md\n"
    }
   },
   "source": [
    "c) From the dataframe below, use groupby in Pandas to show how many total delegates were obtained grouped by state. Print this out."
   ]
  },
  {
   "cell_type": "code",
   "execution_count": 7,
   "metadata": {
    "pycharm": {
     "name": "#%%\n"
    }
   },
   "outputs": [
    {
     "data": {
      "text/html": [
       "<div>\n",
       "<style scoped>\n",
       "    .dataframe tbody tr th:only-of-type {\n",
       "        vertical-align: middle;\n",
       "    }\n",
       "\n",
       "    .dataframe tbody tr th {\n",
       "        vertical-align: top;\n",
       "    }\n",
       "\n",
       "    .dataframe thead th {\n",
       "        text-align: right;\n",
       "    }\n",
       "</style>\n",
       "<table border=\"1\" class=\"dataframe\">\n",
       "  <thead>\n",
       "    <tr style=\"text-align: right;\">\n",
       "      <th></th>\n",
       "      <th>name</th>\n",
       "      <th>delegates</th>\n",
       "      <th>color</th>\n",
       "      <th>state</th>\n",
       "    </tr>\n",
       "  </thead>\n",
       "  <tbody>\n",
       "    <tr>\n",
       "      <th>0</th>\n",
       "      <td>marco</td>\n",
       "      <td>165</td>\n",
       "      <td>blue</td>\n",
       "      <td>FL</td>\n",
       "    </tr>\n",
       "    <tr>\n",
       "      <th>1</th>\n",
       "      <td>jeb</td>\n",
       "      <td>35</td>\n",
       "      <td>red</td>\n",
       "      <td>FL</td>\n",
       "    </tr>\n",
       "    <tr>\n",
       "      <th>2</th>\n",
       "      <td>chris</td>\n",
       "      <td>0</td>\n",
       "      <td>white</td>\n",
       "      <td>NY</td>\n",
       "    </tr>\n",
       "    <tr>\n",
       "      <th>3</th>\n",
       "      <td>donald</td>\n",
       "      <td>1543</td>\n",
       "      <td>white</td>\n",
       "      <td>NY</td>\n",
       "    </tr>\n",
       "    <tr>\n",
       "      <th>4</th>\n",
       "      <td>ted</td>\n",
       "      <td>559</td>\n",
       "      <td>blue</td>\n",
       "      <td>NY</td>\n",
       "    </tr>\n",
       "    <tr>\n",
       "      <th>5</th>\n",
       "      <td>john</td>\n",
       "      <td>161</td>\n",
       "      <td>red</td>\n",
       "      <td>OH</td>\n",
       "    </tr>\n",
       "  </tbody>\n",
       "</table>\n",
       "</div>"
      ],
      "text/plain": [
       "     name  delegates  color state\n",
       "0   marco        165   blue    FL\n",
       "1     jeb         35    red    FL\n",
       "2   chris          0  white    NY\n",
       "3  donald       1543  white    NY\n",
       "4     ted        559   blue    NY\n",
       "5    john        161    red    OH"
      ]
     },
     "execution_count": 7,
     "metadata": {},
     "output_type": "execute_result"
    }
   ],
   "source": [
    "import pandas\n",
    "\n",
    "# creating a data frame from scratch - list of lists\n",
    "\n",
    "data = [ ['marco', 165, 'blue', 'FL'], \n",
    "         ['jeb', 35, 'red', 'FL'], \n",
    "         ['chris', 0, 'white', 'NY'], \n",
    "         ['donald', 1543, 'white', 'NY'],\n",
    "         ['ted', 559, 'blue', 'NY'],\n",
    "         ['john', 161, 'red', 'OH']\n",
    "       ]\n",
    "\n",
    "# create a data frame with column names - list of lists\n",
    "\n",
    "col_names = ['name', 'delegates', 'color', 'state']\n",
    "df = pandas.DataFrame(data, columns=col_names)\n",
    "df"
   ]
  },
  {
   "cell_type": "code",
   "execution_count": 8,
   "metadata": {
    "pycharm": {
     "name": "#%%\n"
    }
   },
   "outputs": [
    {
     "data": {
      "text/plain": [
       "state\n",
       "FL     200\n",
       "NY    2102\n",
       "OH     161\n",
       "Name: delegates, dtype: int64"
      ]
     },
     "execution_count": 8,
     "metadata": {},
     "output_type": "execute_result"
    }
   ],
   "source": [
    "# 2c) Your code here\n",
    "df.groupby('state')['delegates'].sum()"
   ]
  },
  {
   "cell_type": "markdown",
   "metadata": {
    "pycharm": {
     "name": "#%% md\n"
    }
   },
   "source": [
    "## 3: Bitcoin coding problem (20 points):"
   ]
  },
  {
   "cell_type": "markdown",
   "metadata": {
    "pycharm": {
     "name": "#%% md\n"
    }
   },
   "source": [
    "#### Bitcoin\n",
    "\n",
    "Consider a record of a one-time investment in bitcoin with value of that investment tracked monthly, provided as an (ordered) tuple of dictionaries, where each dictionary comprises one key for the month and corresponding one value for the value of the investment as of that date. (For example 31 Jan 2018 was $1200 as shown in `data` below).\n",
    "\n",
    "The initial investment is made on 1 Jan 2018 and was for $1000 (labelled 'Initial' in the `data` below).\n",
    "\n",
    "Fill in the Python function (named `bitcoin_invest` below) to take such a record of any length (the below `data` is only a sample but the full data will be in the same format), and return a dataframe comprising a row for each month with columns for date, balance, and return. **Print out/display this dataframe.**\n",
    "\n",
    "Also, visualize the record as two vertically arranged plots (there are a few ways to do this, keep it consistent over both plots). \n",
    "- The top plot should show a line plot of balance vs. month \n",
    "- The bottom plot should show a bar plot of return vs. month, with a black horizontal line at return=0, and bars color-coded such that positive returns are green and negative returns are red.  \n",
    "- The two plots' horizontal axes should align. Demonstrate that your code works by applying it to `data`.\n",
    "\n",
    "Some definitions: <br>\n",
    "- The gain for each period is the end balance minus the start balance. \n",
    "- The growth factor for each period is the end balance divided by the start balance.  \n",
    "- The return for each period is the growth factor minus 1."
   ]
  },
  {
   "cell_type": "code",
   "execution_count": 9,
   "metadata": {
    "pycharm": {
     "name": "#%%\n"
    }
   },
   "outputs": [
    {
     "data": {
      "text/plain": [
       "({'Initial': 1000},\n",
       " {'Jan 2018': 1200},\n",
       " {'Feb 2018': 1400},\n",
       " {'Mar 2018': 700},\n",
       " {'Apr 2018': 800},\n",
       " {'May 2018': 500})"
      ]
     },
     "execution_count": 9,
     "metadata": {},
     "output_type": "execute_result"
    }
   ],
   "source": [
    "data = ({\"Initial\": 1000}, {\"Jan 2018\":1200},{\"Feb 2018\":1400},{\"Mar 2018\":700},{\"Apr 2018\":800},{\"May 2018\":500})\n",
    "data"
   ]
  },
  {
   "cell_type": "code",
   "execution_count": 10,
   "metadata": {
    "pycharm": {
     "name": "#%%\n"
    }
   },
   "outputs": [],
   "source": [
    "# 3) Your code here\n",
    "import pandas as pd\n",
    "\n",
    "def bitcoin_invest(monthly_data):\n",
    "    df = pd.DataFrame(monthly_data).max().reset_index()\n",
    "    df.columns = ['date', 'balance']\n",
    "    df['lag'] = df.balance.shift(1)\n",
    "    df['gain'] = df['balance'] - df['lag']\n",
    "    df['return'] = df['gain'] / df['lag']\n",
    "    df.drop(['gain', 'lag'], inplace=True, axis=1)\n",
    "    return df"
   ]
  },
  {
   "cell_type": "code",
   "execution_count": 11,
   "metadata": {
    "pycharm": {
     "name": "#%%\n"
    }
   },
   "outputs": [
    {
     "data": {
      "text/html": [
       "<div>\n",
       "<style scoped>\n",
       "    .dataframe tbody tr th:only-of-type {\n",
       "        vertical-align: middle;\n",
       "    }\n",
       "\n",
       "    .dataframe tbody tr th {\n",
       "        vertical-align: top;\n",
       "    }\n",
       "\n",
       "    .dataframe thead th {\n",
       "        text-align: right;\n",
       "    }\n",
       "</style>\n",
       "<table border=\"1\" class=\"dataframe\">\n",
       "  <thead>\n",
       "    <tr style=\"text-align: right;\">\n",
       "      <th></th>\n",
       "      <th>date</th>\n",
       "      <th>balance</th>\n",
       "      <th>return</th>\n",
       "      <th>positive</th>\n",
       "    </tr>\n",
       "  </thead>\n",
       "  <tbody>\n",
       "    <tr>\n",
       "      <th>0</th>\n",
       "      <td>Initial</td>\n",
       "      <td>1000.0</td>\n",
       "      <td>NaN</td>\n",
       "      <td>False</td>\n",
       "    </tr>\n",
       "    <tr>\n",
       "      <th>1</th>\n",
       "      <td>Jan 2018</td>\n",
       "      <td>1200.0</td>\n",
       "      <td>0.200000</td>\n",
       "      <td>True</td>\n",
       "    </tr>\n",
       "    <tr>\n",
       "      <th>2</th>\n",
       "      <td>Feb 2018</td>\n",
       "      <td>1400.0</td>\n",
       "      <td>0.166667</td>\n",
       "      <td>True</td>\n",
       "    </tr>\n",
       "    <tr>\n",
       "      <th>3</th>\n",
       "      <td>Mar 2018</td>\n",
       "      <td>700.0</td>\n",
       "      <td>-0.500000</td>\n",
       "      <td>False</td>\n",
       "    </tr>\n",
       "    <tr>\n",
       "      <th>4</th>\n",
       "      <td>Apr 2018</td>\n",
       "      <td>800.0</td>\n",
       "      <td>0.142857</td>\n",
       "      <td>True</td>\n",
       "    </tr>\n",
       "    <tr>\n",
       "      <th>5</th>\n",
       "      <td>May 2018</td>\n",
       "      <td>500.0</td>\n",
       "      <td>-0.375000</td>\n",
       "      <td>False</td>\n",
       "    </tr>\n",
       "  </tbody>\n",
       "</table>\n",
       "</div>"
      ],
      "text/plain": [
       "       date  balance    return  positive\n",
       "0   Initial   1000.0       NaN     False\n",
       "1  Jan 2018   1200.0  0.200000      True\n",
       "2  Feb 2018   1400.0  0.166667      True\n",
       "3  Mar 2018    700.0 -0.500000     False\n",
       "4  Apr 2018    800.0  0.142857      True\n",
       "5  May 2018    500.0 -0.375000     False"
      ]
     },
     "execution_count": 11,
     "metadata": {},
     "output_type": "execute_result"
    }
   ],
   "source": [
    "monthly = bitcoin_invest(data)\n",
    "monthly['positive'] = monthly['return'] > 0\n",
    "monthly"
   ]
  },
  {
   "cell_type": "code",
   "execution_count": 12,
   "metadata": {
    "pycharm": {
     "name": "#%%\n"
    }
   },
   "outputs": [
    {
     "data": {
      "image/png": "[encoded data removed]",
      "text/plain": [
       "<Figure size 432x288 with 2 Axes>"
      ]
     },
     "metadata": {
      "needs_background": "light"
     },
     "output_type": "display_data"
    }
   ],
   "source": [
    "import matplotlib.pyplot as plt\n",
    "\n",
    "fig, (ax1, ax2) = plt.subplots(2, 1, sharex=True)\n",
    "\n",
    "c = 'g' if monthly.balance.iloc[-1] >= monthly.balance.iloc[0] else 'r'\n",
    "ax1.plot(\n",
    "    monthly.date, \n",
    "    monthly.balance,\n",
    "    color=c\n",
    ")\n",
    "ax2.bar(\n",
    "    monthly.date, \n",
    "    monthly['return'],\n",
    "    color=monthly.positive.map({True: 'g', False: 'r'})\n",
    ")\n",
    "ax2.axhline(y=0, color='k')\n",
    "\n",
    "plt.show()"
   ]
  },
  {
   "cell_type": "markdown",
   "metadata": {
    "pycharm": {
     "name": "#%% md\n"
    }
   },
   "source": [
    "## 4: Clinical disease data (40 pts)\n",
    "\n",
    "Your boss comes to you Monday morning and says “I figured out our next step; we are going to pivot from an online craft store and become a data center for genetic disease information! I found **ClinVar** which is a repository that contains expert curated data, and it is free for the taking. This is a gold mine! Look at the file and tell me what gene and mutation combinations are classified as dangerous.”\n",
    "\n",
    "Make sure that you only give your boss the dangerous mutations and include:\n",
    "\n",
    "1) Gene name\n",
    "\n",
    "2) Mutation ID number\n",
    "\n",
    "3) Mutation Position (chromosome & position)\n",
    "\n",
    "4) Mutation value (reference & alternate bases)\n",
    "\n",
    "5) Clinical significance (CLNSIG)\n",
    "\n",
    "6) Disease that is implicated\n",
    "\n",
    "**Requirements**\n",
    "\n",
    "1) The deliverables are the final result as a dataframe with a short discussion of any specifics. (that is, what data you would present to your boss with the explanation of your results)\n",
    "\n",
    "2) Limit your output to the first 100 harmful mutations and tell your boss how many total harmful mutations were found in the file\n",
    "\n",
    "3) Use the instructor-modified \"clinvar_final.txt\" at this link: https://drive.google.com/file/d/1Zps0YssoJbZHrn6iLte2RDLlgruhAX1s/view?usp=sharing This file was modified to be not exactly the same as 'standard' .vcf file to test your data parsing skills. **This is a large file so do NOT upload it into your github repo!**\n",
    "\n",
    "4) Replace missing values in the dataframe with: 'Not_Given'. Print or display this (including the Not_Given count) for the column `CLNSIG` by using pandas value_counts() function (https://pandas.pydata.org/docs/reference/api/pandas.Series.value_counts.html).\n",
    "\n",
    "5) State in your answer how you define harmful mutations\n",
    "\n",
    "**6) Do your best on getting to above requirements and submit whatever you do before the deadline. If your work is incomplete be sure to describe the blockers that got in your way and how you might get past them (if given more time).**\n",
    "\n",
    "7) You can use as many code blocks as you need. Please clean-up your code and make it readable for the graders!\n",
    "\n",
    "**Hints** \n",
    "* We do not expect you to have any medical knowledge to solve this problem; look at the data, read the documentation provided, and write down your assumptions!\n",
    "\n",
    "* Correct pseudocode will give you partial credit so start with that. \n",
    "\n",
    "* Map out which fields you want to extract: Are they in the same place every time? What strategy will you use to robustly extract and filter your data of interest? How do you plan to handle missing data?\n",
    "\n",
    "* A good way to start is to print out each line, then practice parsing them to see if you can recover the fields of interest\n",
    "\n",
    "* A starting solution for parsing .vcfs can be found here: https://gist.github.com/dceoy/99d976a2c01e7f0ba1c813778f9db744 This solution does **NOT** work due to the changes we've made but can be modified to work. As with any solution that needs modifications, it may take less time to make your own solution!\n",
    "\n",
    "* Filter out junk and lines with no mutation data. Just focus on the data your need to deliver to your boss. \n",
    "\n",
    "* Pandas and NumPy parsers correctly recognize the end of each line in in the ClinVar file.\n",
    "\n",
    "* The unit of observation of this dataset is one row per mutation.\n",
    "\n",
    "* This is similar to a task that one of us tackled at work. You can answer the question with the information provided below or using the (partial) data dictionary file at this link: https://drive.google.com/file/d/1lx9yHdlcqmU_OlHiTUXKC_LQDqYBypH_/view?usp=sharing. Our goal is to see that you can put together a sensible plan, implement a solid parsing strategy, and document and justify the decisions that you made."
   ]
  },
  {
   "cell_type": "markdown",
   "metadata": {
    "pycharm": {
     "name": "#%% md\n"
    }
   },
   "source": [
    "### VCF file description (Summarized from version 4.1)\n",
    "\n",
    "```\n",
    "* The VCF specification:\n",
    "\n",
    "VCF is a text file format which contains meta-information lines, a header line, and then data lines each containing information about a position in the genome. The format also can contain genotype information on samples for each position.\n",
    "\n",
    "* Fixed fields:\n",
    "\n",
    "There are 8 fixed fields per record. All data lines are **tab-delimited**. In all cases, missing values are specified with a dot (‘.’). \n",
    "\n",
    "1. CHROM - chromosome number\n",
    "2. POS - position DNA nuceleotide count (bases) along the chromosome\n",
    "3. ID - The unique identifier for each mutation\n",
    "4. REF - reference base(s)\n",
    "5. ALT - alternate base(s)\n",
    "6. FILTER - filter status\n",
    "7. QUAL - quality\n",
    "8. INFO - a semicolon-separated series of keys with values in the format: <key>=<data>\n",
    "\n",
    "```\n",
    "### Applicable INFO field specifications\n",
    "\n",
    "```\n",
    "GENEINFO = <Gene name>\n",
    "CLNSIG =  <Clinical significance>\n",
    "CLNDN = <Disease name>\n",
    "```\n",
    "\n",
    "### Sample ClinVar data (vcf file format - not exactly the same as the file to download!)\n",
    "\n",
    "```\n",
    "##fileformat=VCFv4.1\n",
    "##fileDate=2019-03-19\n",
    "##source=ClinVar\n",
    "##reference=GRCh38\t\t\t\t\t\t\t\n",
    "#CHROM\tPOS\tID\tREF\tALT\tQUAL\tFILTER\tINFO\n",
    "1\t949523\trs786201005\tC\tT\t.\t.\tGENEINFO=ISG15;CLNSIG=5\n",
    "1\t949696\trs672601345\tC\tCG\t.\t.\tGENEINFO=ISG15;CLNSIG=5;CLNDN=Cancer\n",
    "1\t949739\trs672601312\tG\tT\t.\t.\tGENEINFO=ISG15;CLNDBN=Cancer\n",
    "1\t955597\trs115173026\tG\tT\t.\t.\tGENEINFO=AGRN;CLNSIG=2; CLNDN=Cancer\n",
    "1\t955619\trs201073369\tG\tC\t.\t.\tGENEINFO=AGG;CLNDN=Heart_dis \n",
    "1\t957640\trs6657048\tC\tT\t.\t.\tGENEINFO=AGG;CLNSIG=3;CLNDN=Heart_dis \n",
    "1\t976059\trs544749044\tC\tT\t.\t.\tGENEINFO=AGG;CLNSIG=0;CLNDN=Heart_dis \n",
    "```"
   ]
  },
  {
   "cell_type": "code",
   "execution_count": 13,
   "metadata": {
    "pycharm": {
     "name": "#%%\n"
    }
   },
   "outputs": [],
   "source": [
    "# 4) Your code here - can use as many code blocks as you would like\n",
    "import io\n",
    "import os\n",
    "import pandas as pd\n",
    "\n",
    "\n",
    "def read_vcf(path):\n",
    "    with open(path, 'r') as f:\n",
    "        lines = [l for l in f if not l.startswith('#')]\n",
    "    return pd.read_csv(\n",
    "        io.StringIO(''.join(lines)),\n",
    "        dtype={'CHROM': str, 'POS': str, 'ID': str, 'REF': str, 'ALT': str,\n",
    "               'QUAL': str, 'FILTER': str, 'INFO': str},\n",
    "        sep='\\t'\n",
    "    )"
   ]
  },
  {
   "cell_type": "markdown",
   "metadata": {
    "pycharm": {
     "name": "#%% md\n"
    }
   },
   "source": [
    "Reading the file into a dataframe:"
   ]
  },
  {
   "cell_type": "code",
   "execution_count": 14,
   "metadata": {
    "pycharm": {
     "name": "#%%\n"
    }
   },
   "outputs": [
    {
     "data": {
      "text/html": [
       "<div>\n",
       "<style scoped>\n",
       "    .dataframe tbody tr th:only-of-type {\n",
       "        vertical-align: middle;\n",
       "    }\n",
       "\n",
       "    .dataframe tbody tr th {\n",
       "        vertical-align: top;\n",
       "    }\n",
       "\n",
       "    .dataframe thead th {\n",
       "        text-align: right;\n",
       "    }\n",
       "</style>\n",
       "<table border=\"1\" class=\"dataframe\">\n",
       "  <thead>\n",
       "    <tr style=\"text-align: right;\">\n",
       "      <th></th>\n",
       "      <th>CHROM</th>\n",
       "      <th>POS</th>\n",
       "      <th>ID</th>\n",
       "      <th>REF</th>\n",
       "      <th>ALT</th>\n",
       "      <th>FILTER</th>\n",
       "      <th>QUAL</th>\n",
       "      <th>INFO</th>\n",
       "    </tr>\n",
       "  </thead>\n",
       "  <tbody>\n",
       "    <tr>\n",
       "      <th>0</th>\n",
       "      <td>1</td>\n",
       "      <td>1014O42</td>\n",
       "      <td>475283</td>\n",
       "      <td>G</td>\n",
       "      <td>A</td>\n",
       "      <td>.</td>\n",
       "      <td>.</td>\n",
       "      <td>AF_ESP=0.00546;AF_EXAC=0.00165;AF_TGP=0.00619;...</td>\n",
       "    </tr>\n",
       "    <tr>\n",
       "      <th>1</th>\n",
       "      <td>1</td>\n",
       "      <td>1O14122</td>\n",
       "      <td>542074</td>\n",
       "      <td>C</td>\n",
       "      <td>T</td>\n",
       "      <td>.</td>\n",
       "      <td>.</td>\n",
       "      <td>AF_ESP=0.00015;AF_EXAC=0.00010;ALLELEID=514926...</td>\n",
       "    </tr>\n",
       "    <tr>\n",
       "      <th>2</th>\n",
       "      <td>1</td>\n",
       "      <td>1014143</td>\n",
       "      <td>183381</td>\n",
       "      <td>C</td>\n",
       "      <td>T</td>\n",
       "      <td>.</td>\n",
       "      <td>.</td>\n",
       "      <td>ALLELEID=181485;CLNDISDB=MedGen:C4015293,OMIM:...</td>\n",
       "    </tr>\n",
       "    <tr>\n",
       "      <th>3</th>\n",
       "      <td>1</td>\n",
       "      <td>1014179</td>\n",
       "      <td>542075</td>\n",
       "      <td>C</td>\n",
       "      <td>T</td>\n",
       "      <td>.</td>\n",
       "      <td>.</td>\n",
       "      <td>ALLELEID=514896;CLNDISDB=MedGen:C4015293,OMIM:...</td>\n",
       "    </tr>\n",
       "    <tr>\n",
       "      <th>4</th>\n",
       "      <td>1</td>\n",
       "      <td>1014217</td>\n",
       "      <td>475278</td>\n",
       "      <td>C</td>\n",
       "      <td>T</td>\n",
       "      <td>.</td>\n",
       "      <td>.</td>\n",
       "      <td>AF_ESP=0.00515;AF_EXAC=0.00831;AF_TGP=0.00339;...</td>\n",
       "    </tr>\n",
       "  </tbody>\n",
       "</table>\n",
       "</div>"
      ],
      "text/plain": [
       "  CHROM      POS      ID REF ALT FILTER QUAL  \\\n",
       "0     1  1014O42  475283   G   A      .    .   \n",
       "1     1  1O14122  542074   C   T      .    .   \n",
       "2     1  1014143  183381   C   T      .    .   \n",
       "3     1  1014179  542075   C   T      .    .   \n",
       "4     1  1014217  475278   C   T      .    .   \n",
       "\n",
       "                                                INFO  \n",
       "0  AF_ESP=0.00546;AF_EXAC=0.00165;AF_TGP=0.00619;...  \n",
       "1  AF_ESP=0.00015;AF_EXAC=0.00010;ALLELEID=514926...  \n",
       "2  ALLELEID=181485;CLNDISDB=MedGen:C4015293,OMIM:...  \n",
       "3  ALLELEID=514896;CLNDISDB=MedGen:C4015293,OMIM:...  \n",
       "4  AF_ESP=0.00515;AF_EXAC=0.00831;AF_TGP=0.00339;...  "
      ]
     },
     "execution_count": 14,
     "metadata": {},
     "output_type": "execute_result"
    }
   ],
   "source": [
    "PATH = 'clinvar_final.txt'\n",
    "l = read_vcf(PATH)\n",
    "l.head()"
   ]
  },
  {
   "cell_type": "code",
   "execution_count": 15,
   "metadata": {},
   "outputs": [
    {
     "data": {
      "text/plain": [
       "CHROM          0\n",
       "POS            0\n",
       "ID             0\n",
       "REF            0\n",
       "ALT           86\n",
       "FILTER    102321\n",
       "QUAL      102321\n",
       "INFO           0\n",
       "dtype: int64"
      ]
     },
     "execution_count": 15,
     "metadata": {},
     "output_type": "execute_result"
    }
   ],
   "source": [
    "# Which rows have the most missing values\n",
    "l[l == '.'].notnull().sum()"
   ]
  },
  {
   "cell_type": "markdown",
   "metadata": {
    "pycharm": {
     "name": "#%% md\n"
    }
   },
   "source": [
    "We first need to begin by parsing the key=data combinations for the `INFO` column"
   ]
  },
  {
   "cell_type": "code",
   "execution_count": 16,
   "metadata": {
    "pycharm": {
     "name": "#%%\n"
    }
   },
   "outputs": [],
   "source": [
    "# Create a dictionary list of the column INFO\n",
    "dict_lst = l['INFO'].str.split(';').apply(\n",
    "    lambda r: dict([\n",
    "        item.split('=') for item in r\n",
    "    ])\n",
    ")\n",
    "\n",
    "# Convert the INFO dictionary list to a DataFrame\n",
    "info_cols = pd.DataFrame(\n",
    "    dict_lst.values.tolist()\n",
    ")"
   ]
  },
  {
   "cell_type": "code",
   "execution_count": 17,
   "metadata": {
    "pycharm": {
     "name": "#%%\n"
    }
   },
   "outputs": [
    {
     "data": {
      "text/html": [
       "<div>\n",
       "<style scoped>\n",
       "    .dataframe tbody tr th:only-of-type {\n",
       "        vertical-align: middle;\n",
       "    }\n",
       "\n",
       "    .dataframe tbody tr th {\n",
       "        vertical-align: top;\n",
       "    }\n",
       "\n",
       "    .dataframe thead th {\n",
       "        text-align: right;\n",
       "    }\n",
       "</style>\n",
       "<table border=\"1\" class=\"dataframe\">\n",
       "  <thead>\n",
       "    <tr style=\"text-align: right;\">\n",
       "      <th></th>\n",
       "      <th>AF_ESP</th>\n",
       "      <th>AF_EXAC</th>\n",
       "      <th>AF_TGP</th>\n",
       "      <th>ALLELEID</th>\n",
       "      <th>CLNDISDB</th>\n",
       "      <th>CLNDN</th>\n",
       "      <th>CLNHGVS</th>\n",
       "      <th>CLNREVSTAT</th>\n",
       "      <th>CLNSIG</th>\n",
       "      <th>CLNVC</th>\n",
       "      <th>...</th>\n",
       "      <th>GENEINFO</th>\n",
       "      <th>MC</th>\n",
       "      <th>ORIGIN</th>\n",
       "      <th>RS</th>\n",
       "      <th>CLNVI</th>\n",
       "      <th>CLNSIGCONF</th>\n",
       "      <th>CLNDISDBINCL</th>\n",
       "      <th>CLNDNINCL</th>\n",
       "      <th>CLNSIGINCL</th>\n",
       "      <th>DBVARID</th>\n",
       "    </tr>\n",
       "  </thead>\n",
       "  <tbody>\n",
       "    <tr>\n",
       "      <th>0</th>\n",
       "      <td>0.00546</td>\n",
       "      <td>0.00165</td>\n",
       "      <td>0.00619</td>\n",
       "      <td>446939</td>\n",
       "      <td>MedGen:C4015293,OMIM:616126,Orphanet:ORPHA319563</td>\n",
       "      <td>Immunodeficiency_38_with_basal_ganglia_calcifi...</td>\n",
       "      <td>NC_000001.11:g.1014042G&gt;A</td>\n",
       "      <td>criteria_provided,_single_submitter</td>\n",
       "      <td>Benign</td>\n",
       "      <td>single_nucleotide_variant</td>\n",
       "      <td>...</td>\n",
       "      <td>ISG15:9636</td>\n",
       "      <td>SO:0001583|missense_variant</td>\n",
       "      <td>1</td>\n",
       "      <td>143888043</td>\n",
       "      <td>NaN</td>\n",
       "      <td>NaN</td>\n",
       "      <td>NaN</td>\n",
       "      <td>NaN</td>\n",
       "      <td>NaN</td>\n",
       "      <td>NaN</td>\n",
       "    </tr>\n",
       "    <tr>\n",
       "      <th>1</th>\n",
       "      <td>0.00015</td>\n",
       "      <td>0.00010</td>\n",
       "      <td>NaN</td>\n",
       "      <td>514926</td>\n",
       "      <td>MedGen:C4015293,OMIM:616126,Orphanet:ORPHA319563</td>\n",
       "      <td>Immunodeficiency_38_with_basal_ganglia_calcifi...</td>\n",
       "      <td>NC_000001.11:g.1014122C&gt;T</td>\n",
       "      <td>criteria_provided,_single_submitter</td>\n",
       "      <td>Uncertain_significance</td>\n",
       "      <td>single_nucleotide_variant</td>\n",
       "      <td>...</td>\n",
       "      <td>ISG15:9636</td>\n",
       "      <td>SO:0001583|missense_variant</td>\n",
       "      <td>1</td>\n",
       "      <td>150861311</td>\n",
       "      <td>NaN</td>\n",
       "      <td>NaN</td>\n",
       "      <td>NaN</td>\n",
       "      <td>NaN</td>\n",
       "      <td>NaN</td>\n",
       "      <td>NaN</td>\n",
       "    </tr>\n",
       "    <tr>\n",
       "      <th>2</th>\n",
       "      <td>NaN</td>\n",
       "      <td>NaN</td>\n",
       "      <td>NaN</td>\n",
       "      <td>181485</td>\n",
       "      <td>MedGen:C4015293,OMIM:616126,Orphanet:ORPHA319563</td>\n",
       "      <td>Immunodeficiency_38_with_basal_ganglia_calcifi...</td>\n",
       "      <td>NC_000001.11:g.1014143C&gt;T</td>\n",
       "      <td>no_assertion_criteria_provided</td>\n",
       "      <td>Pathogenic</td>\n",
       "      <td>single_nucleotide_variant</td>\n",
       "      <td>...</td>\n",
       "      <td>ISG15:9636</td>\n",
       "      <td>SO:0001587|nonsense</td>\n",
       "      <td>1</td>\n",
       "      <td>786201005</td>\n",
       "      <td>OMIM_Allelic_Variant:147571.0003</td>\n",
       "      <td>NaN</td>\n",
       "      <td>NaN</td>\n",
       "      <td>NaN</td>\n",
       "      <td>NaN</td>\n",
       "      <td>NaN</td>\n",
       "    </tr>\n",
       "    <tr>\n",
       "      <th>3</th>\n",
       "      <td>NaN</td>\n",
       "      <td>NaN</td>\n",
       "      <td>NaN</td>\n",
       "      <td>514896</td>\n",
       "      <td>MedGen:C4015293,OMIM:616126,Orphanet:ORPHA319563</td>\n",
       "      <td>Immunodeficiency_38_with_basal_ganglia_calcifi...</td>\n",
       "      <td>NC_000001.11:g.1014179C&gt;T</td>\n",
       "      <td>criteria_provided,_single_submitter</td>\n",
       "      <td>Uncertain_significance</td>\n",
       "      <td>single_nucleotide_variant</td>\n",
       "      <td>...</td>\n",
       "      <td>ISG15:9636</td>\n",
       "      <td>SO:0001583|missense_variant</td>\n",
       "      <td>1</td>\n",
       "      <td>1553169766</td>\n",
       "      <td>NaN</td>\n",
       "      <td>NaN</td>\n",
       "      <td>NaN</td>\n",
       "      <td>NaN</td>\n",
       "      <td>NaN</td>\n",
       "      <td>NaN</td>\n",
       "    </tr>\n",
       "    <tr>\n",
       "      <th>4</th>\n",
       "      <td>0.00515</td>\n",
       "      <td>0.00831</td>\n",
       "      <td>0.00339</td>\n",
       "      <td>446987</td>\n",
       "      <td>MedGen:C4015293,OMIM:616126,Orphanet:ORPHA319563</td>\n",
       "      <td>Immunodeficiency_38_with_basal_ganglia_calcifi...</td>\n",
       "      <td>NC_000001.11:g.1014217C&gt;T</td>\n",
       "      <td>criteria_provided,_single_submitter</td>\n",
       "      <td>Benign</td>\n",
       "      <td>single_nucleotide_variant</td>\n",
       "      <td>...</td>\n",
       "      <td>ISG15:9636</td>\n",
       "      <td>SO:0001819|synonymous_variant</td>\n",
       "      <td>1</td>\n",
       "      <td>61766284</td>\n",
       "      <td>NaN</td>\n",
       "      <td>NaN</td>\n",
       "      <td>NaN</td>\n",
       "      <td>NaN</td>\n",
       "      <td>NaN</td>\n",
       "      <td>NaN</td>\n",
       "    </tr>\n",
       "  </tbody>\n",
       "</table>\n",
       "<p>5 rows × 21 columns</p>\n",
       "</div>"
      ],
      "text/plain": [
       "    AF_ESP  AF_EXAC   AF_TGP ALLELEID  \\\n",
       "0  0.00546  0.00165  0.00619   446939   \n",
       "1  0.00015  0.00010      NaN   514926   \n",
       "2      NaN      NaN      NaN   181485   \n",
       "3      NaN      NaN      NaN   514896   \n",
       "4  0.00515  0.00831  0.00339   446987   \n",
       "\n",
       "                                           CLNDISDB  \\\n",
       "0  MedGen:C4015293,OMIM:616126,Orphanet:ORPHA319563   \n",
       "1  MedGen:C4015293,OMIM:616126,Orphanet:ORPHA319563   \n",
       "2  MedGen:C4015293,OMIM:616126,Orphanet:ORPHA319563   \n",
       "3  MedGen:C4015293,OMIM:616126,Orphanet:ORPHA319563   \n",
       "4  MedGen:C4015293,OMIM:616126,Orphanet:ORPHA319563   \n",
       "\n",
       "                                               CLNDN  \\\n",
       "0  Immunodeficiency_38_with_basal_ganglia_calcifi...   \n",
       "1  Immunodeficiency_38_with_basal_ganglia_calcifi...   \n",
       "2  Immunodeficiency_38_with_basal_ganglia_calcifi...   \n",
       "3  Immunodeficiency_38_with_basal_ganglia_calcifi...   \n",
       "4  Immunodeficiency_38_with_basal_ganglia_calcifi...   \n",
       "\n",
       "                     CLNHGVS                           CLNREVSTAT  \\\n",
       "0  NC_000001.11:g.1014042G>A  criteria_provided,_single_submitter   \n",
       "1  NC_000001.11:g.1014122C>T  criteria_provided,_single_submitter   \n",
       "2  NC_000001.11:g.1014143C>T       no_assertion_criteria_provided   \n",
       "3  NC_000001.11:g.1014179C>T  criteria_provided,_single_submitter   \n",
       "4  NC_000001.11:g.1014217C>T  criteria_provided,_single_submitter   \n",
       "\n",
       "                   CLNSIG                      CLNVC  ...    GENEINFO  \\\n",
       "0                  Benign  single_nucleotide_variant  ...  ISG15:9636   \n",
       "1  Uncertain_significance  single_nucleotide_variant  ...  ISG15:9636   \n",
       "2              Pathogenic  single_nucleotide_variant  ...  ISG15:9636   \n",
       "3  Uncertain_significance  single_nucleotide_variant  ...  ISG15:9636   \n",
       "4                  Benign  single_nucleotide_variant  ...  ISG15:9636   \n",
       "\n",
       "                              MC ORIGIN          RS  \\\n",
       "0    SO:0001583|missense_variant      1   143888043   \n",
       "1    SO:0001583|missense_variant      1   150861311   \n",
       "2            SO:0001587|nonsense      1   786201005   \n",
       "3    SO:0001583|missense_variant      1  1553169766   \n",
       "4  SO:0001819|synonymous_variant      1    61766284   \n",
       "\n",
       "                              CLNVI CLNSIGCONF CLNDISDBINCL CLNDNINCL  \\\n",
       "0                               NaN        NaN          NaN       NaN   \n",
       "1                               NaN        NaN          NaN       NaN   \n",
       "2  OMIM_Allelic_Variant:147571.0003        NaN          NaN       NaN   \n",
       "3                               NaN        NaN          NaN       NaN   \n",
       "4                               NaN        NaN          NaN       NaN   \n",
       "\n",
       "  CLNSIGINCL DBVARID  \n",
       "0        NaN     NaN  \n",
       "1        NaN     NaN  \n",
       "2        NaN     NaN  \n",
       "3        NaN     NaN  \n",
       "4        NaN     NaN  \n",
       "\n",
       "[5 rows x 21 columns]"
      ]
     },
     "execution_count": 17,
     "metadata": {},
     "output_type": "execute_result"
    }
   ],
   "source": [
    "info_cols.head()"
   ]
  },
  {
   "cell_type": "code",
   "execution_count": 18,
   "metadata": {
    "pycharm": {
     "name": "#%%\n"
    }
   },
   "outputs": [
    {
     "data": {
      "text/plain": [
       "Index(['CHROM', 'POS', 'ID', 'REF', 'ALT', 'FILTER', 'QUAL', 'INFO'], dtype='object')"
      ]
     },
     "execution_count": 18,
     "metadata": {},
     "output_type": "execute_result"
    }
   ],
   "source": [
    "l.columns"
   ]
  },
  {
   "cell_type": "markdown",
   "metadata": {
    "pycharm": {
     "name": "#%% md\n"
    }
   },
   "source": [
    "### Applicable INFO field specifications\n",
    "\n",
    "```\n",
    "GENEINFO = <Gene name>\n",
    "CLNSIG =  <Clinical significance>\n",
    "CLNDN = <Disease name>\n",
    "```"
   ]
  },
  {
   "cell_type": "markdown",
   "metadata": {
    "pycharm": {
     "name": "#%% md\n"
    }
   },
   "source": [
    "Replace missing values in the dataframe with: 'Not_Given'. Print or display this (including the Not_Given count) for the column `CLNSIG` by using pandas value_counts() function "
   ]
  },
  {
   "cell_type": "code",
   "execution_count": 19,
   "metadata": {
    "pycharm": {
     "name": "#%%\n"
    }
   },
   "outputs": [
    {
     "data": {
      "text/html": [
       "<div>\n",
       "<style scoped>\n",
       "    .dataframe tbody tr th:only-of-type {\n",
       "        vertical-align: middle;\n",
       "    }\n",
       "\n",
       "    .dataframe tbody tr th {\n",
       "        vertical-align: top;\n",
       "    }\n",
       "\n",
       "    .dataframe thead th {\n",
       "        text-align: right;\n",
       "    }\n",
       "</style>\n",
       "<table border=\"1\" class=\"dataframe\">\n",
       "  <thead>\n",
       "    <tr style=\"text-align: right;\">\n",
       "      <th></th>\n",
       "      <th>CHROM</th>\n",
       "      <th>POS</th>\n",
       "      <th>ID</th>\n",
       "      <th>REF</th>\n",
       "      <th>ALT</th>\n",
       "      <th>FILTER</th>\n",
       "      <th>QUAL</th>\n",
       "      <th>AF_ESP</th>\n",
       "      <th>AF_EXAC</th>\n",
       "      <th>AF_TGP</th>\n",
       "      <th>...</th>\n",
       "      <th>GENEINFO</th>\n",
       "      <th>MC</th>\n",
       "      <th>ORIGIN</th>\n",
       "      <th>RS</th>\n",
       "      <th>CLNVI</th>\n",
       "      <th>CLNSIGCONF</th>\n",
       "      <th>CLNDISDBINCL</th>\n",
       "      <th>CLNDNINCL</th>\n",
       "      <th>CLNSIGINCL</th>\n",
       "      <th>DBVARID</th>\n",
       "    </tr>\n",
       "  </thead>\n",
       "  <tbody>\n",
       "    <tr>\n",
       "      <th>0</th>\n",
       "      <td>1</td>\n",
       "      <td>1014O42</td>\n",
       "      <td>475283</td>\n",
       "      <td>G</td>\n",
       "      <td>A</td>\n",
       "      <td>Not_Given</td>\n",
       "      <td>Not_Given</td>\n",
       "      <td>0.00546</td>\n",
       "      <td>0.00165</td>\n",
       "      <td>0.00619</td>\n",
       "      <td>...</td>\n",
       "      <td>ISG15:9636</td>\n",
       "      <td>SO:0001583|missense_variant</td>\n",
       "      <td>1</td>\n",
       "      <td>143888043</td>\n",
       "      <td>Not_Given</td>\n",
       "      <td>Not_Given</td>\n",
       "      <td>Not_Given</td>\n",
       "      <td>Not_Given</td>\n",
       "      <td>Not_Given</td>\n",
       "      <td>Not_Given</td>\n",
       "    </tr>\n",
       "    <tr>\n",
       "      <th>1</th>\n",
       "      <td>1</td>\n",
       "      <td>1O14122</td>\n",
       "      <td>542074</td>\n",
       "      <td>C</td>\n",
       "      <td>T</td>\n",
       "      <td>Not_Given</td>\n",
       "      <td>Not_Given</td>\n",
       "      <td>0.00015</td>\n",
       "      <td>0.00010</td>\n",
       "      <td>Not_Given</td>\n",
       "      <td>...</td>\n",
       "      <td>ISG15:9636</td>\n",
       "      <td>SO:0001583|missense_variant</td>\n",
       "      <td>1</td>\n",
       "      <td>150861311</td>\n",
       "      <td>Not_Given</td>\n",
       "      <td>Not_Given</td>\n",
       "      <td>Not_Given</td>\n",
       "      <td>Not_Given</td>\n",
       "      <td>Not_Given</td>\n",
       "      <td>Not_Given</td>\n",
       "    </tr>\n",
       "    <tr>\n",
       "      <th>2</th>\n",
       "      <td>1</td>\n",
       "      <td>1014143</td>\n",
       "      <td>183381</td>\n",
       "      <td>C</td>\n",
       "      <td>T</td>\n",
       "      <td>Not_Given</td>\n",
       "      <td>Not_Given</td>\n",
       "      <td>Not_Given</td>\n",
       "      <td>Not_Given</td>\n",
       "      <td>Not_Given</td>\n",
       "      <td>...</td>\n",
       "      <td>ISG15:9636</td>\n",
       "      <td>SO:0001587|nonsense</td>\n",
       "      <td>1</td>\n",
       "      <td>786201005</td>\n",
       "      <td>OMIM_Allelic_Variant:147571.0003</td>\n",
       "      <td>Not_Given</td>\n",
       "      <td>Not_Given</td>\n",
       "      <td>Not_Given</td>\n",
       "      <td>Not_Given</td>\n",
       "      <td>Not_Given</td>\n",
       "    </tr>\n",
       "    <tr>\n",
       "      <th>3</th>\n",
       "      <td>1</td>\n",
       "      <td>1014179</td>\n",
       "      <td>542075</td>\n",
       "      <td>C</td>\n",
       "      <td>T</td>\n",
       "      <td>Not_Given</td>\n",
       "      <td>Not_Given</td>\n",
       "      <td>Not_Given</td>\n",
       "      <td>Not_Given</td>\n",
       "      <td>Not_Given</td>\n",
       "      <td>...</td>\n",
       "      <td>ISG15:9636</td>\n",
       "      <td>SO:0001583|missense_variant</td>\n",
       "      <td>1</td>\n",
       "      <td>1553169766</td>\n",
       "      <td>Not_Given</td>\n",
       "      <td>Not_Given</td>\n",
       "      <td>Not_Given</td>\n",
       "      <td>Not_Given</td>\n",
       "      <td>Not_Given</td>\n",
       "      <td>Not_Given</td>\n",
       "    </tr>\n",
       "    <tr>\n",
       "      <th>4</th>\n",
       "      <td>1</td>\n",
       "      <td>1014217</td>\n",
       "      <td>475278</td>\n",
       "      <td>C</td>\n",
       "      <td>T</td>\n",
       "      <td>Not_Given</td>\n",
       "      <td>Not_Given</td>\n",
       "      <td>0.00515</td>\n",
       "      <td>0.00831</td>\n",
       "      <td>0.00339</td>\n",
       "      <td>...</td>\n",
       "      <td>ISG15:9636</td>\n",
       "      <td>SO:0001819|synonymous_variant</td>\n",
       "      <td>1</td>\n",
       "      <td>61766284</td>\n",
       "      <td>Not_Given</td>\n",
       "      <td>Not_Given</td>\n",
       "      <td>Not_Given</td>\n",
       "      <td>Not_Given</td>\n",
       "      <td>Not_Given</td>\n",
       "      <td>Not_Given</td>\n",
       "    </tr>\n",
       "  </tbody>\n",
       "</table>\n",
       "<p>5 rows × 28 columns</p>\n",
       "</div>"
      ],
      "text/plain": [
       "  CHROM      POS      ID REF ALT     FILTER       QUAL     AF_ESP    AF_EXAC  \\\n",
       "0     1  1014O42  475283   G   A  Not_Given  Not_Given    0.00546    0.00165   \n",
       "1     1  1O14122  542074   C   T  Not_Given  Not_Given    0.00015    0.00010   \n",
       "2     1  1014143  183381   C   T  Not_Given  Not_Given  Not_Given  Not_Given   \n",
       "3     1  1014179  542075   C   T  Not_Given  Not_Given  Not_Given  Not_Given   \n",
       "4     1  1014217  475278   C   T  Not_Given  Not_Given    0.00515    0.00831   \n",
       "\n",
       "      AF_TGP  ...    GENEINFO                             MC ORIGIN  \\\n",
       "0    0.00619  ...  ISG15:9636    SO:0001583|missense_variant      1   \n",
       "1  Not_Given  ...  ISG15:9636    SO:0001583|missense_variant      1   \n",
       "2  Not_Given  ...  ISG15:9636            SO:0001587|nonsense      1   \n",
       "3  Not_Given  ...  ISG15:9636    SO:0001583|missense_variant      1   \n",
       "4    0.00339  ...  ISG15:9636  SO:0001819|synonymous_variant      1   \n",
       "\n",
       "           RS                             CLNVI CLNSIGCONF CLNDISDBINCL  \\\n",
       "0   143888043                         Not_Given  Not_Given    Not_Given   \n",
       "1   150861311                         Not_Given  Not_Given    Not_Given   \n",
       "2   786201005  OMIM_Allelic_Variant:147571.0003  Not_Given    Not_Given   \n",
       "3  1553169766                         Not_Given  Not_Given    Not_Given   \n",
       "4    61766284                         Not_Given  Not_Given    Not_Given   \n",
       "\n",
       "   CLNDNINCL CLNSIGINCL    DBVARID  \n",
       "0  Not_Given  Not_Given  Not_Given  \n",
       "1  Not_Given  Not_Given  Not_Given  \n",
       "2  Not_Given  Not_Given  Not_Given  \n",
       "3  Not_Given  Not_Given  Not_Given  \n",
       "4  Not_Given  Not_Given  Not_Given  \n",
       "\n",
       "[5 rows x 28 columns]"
      ]
     },
     "execution_count": 19,
     "metadata": {},
     "output_type": "execute_result"
    }
   ],
   "source": [
    "new_l = pd.concat([l, info_cols], axis=1)\n",
    "new_l = new_l.replace('.', 'Not_Given')\n",
    "new_l = new_l.fillna('Not_Given')\n",
    "new_l.drop('INFO', axis=1, inplace=True)\n",
    "new_l.head()"
   ]
  },
  {
   "cell_type": "markdown",
   "metadata": {
    "pycharm": {
     "name": "#%% md\n"
    }
   },
   "source": [
    "The columns requested for presentation:\n",
    "\n",
    "1) Gene name\n",
    " `GENEINFO`\n",
    "2) Mutation ID number\n",
    "`ID`\n",
    "3) Mutation Position\n",
    "`CHROM & POS`\n",
    "4) Mutation value\n",
    "`REF & ALT` \n",
    "5) Clinical significance\n",
    "`CLNSIG`\n",
    "6) Disease that is implicated\n",
    "`CLNDN`"
   ]
  },
  {
   "cell_type": "code",
   "execution_count": 20,
   "metadata": {
    "pycharm": {
     "name": "#%%\n"
    }
   },
   "outputs": [
    {
     "data": {
      "text/html": [
       "<div>\n",
       "<style scoped>\n",
       "    .dataframe tbody tr th:only-of-type {\n",
       "        vertical-align: middle;\n",
       "    }\n",
       "\n",
       "    .dataframe tbody tr th {\n",
       "        vertical-align: top;\n",
       "    }\n",
       "\n",
       "    .dataframe thead th {\n",
       "        text-align: right;\n",
       "    }\n",
       "</style>\n",
       "<table border=\"1\" class=\"dataframe\">\n",
       "  <thead>\n",
       "    <tr style=\"text-align: right;\">\n",
       "      <th></th>\n",
       "      <th>CHROM</th>\n",
       "      <th>POS</th>\n",
       "      <th>ID</th>\n",
       "      <th>REF</th>\n",
       "      <th>ALT</th>\n",
       "      <th>CLNSIG</th>\n",
       "      <th>CLNDN</th>\n",
       "      <th>GENEINFO</th>\n",
       "    </tr>\n",
       "  </thead>\n",
       "  <tbody>\n",
       "    <tr>\n",
       "      <th>0</th>\n",
       "      <td>1</td>\n",
       "      <td>1014O42</td>\n",
       "      <td>475283</td>\n",
       "      <td>G</td>\n",
       "      <td>A</td>\n",
       "      <td>Benign</td>\n",
       "      <td>Immunodeficiency_38_with_basal_ganglia_calcifi...</td>\n",
       "      <td>ISG15:9636</td>\n",
       "    </tr>\n",
       "    <tr>\n",
       "      <th>1</th>\n",
       "      <td>1</td>\n",
       "      <td>1O14122</td>\n",
       "      <td>542074</td>\n",
       "      <td>C</td>\n",
       "      <td>T</td>\n",
       "      <td>Uncertain_significance</td>\n",
       "      <td>Immunodeficiency_38_with_basal_ganglia_calcifi...</td>\n",
       "      <td>ISG15:9636</td>\n",
       "    </tr>\n",
       "    <tr>\n",
       "      <th>2</th>\n",
       "      <td>1</td>\n",
       "      <td>1014143</td>\n",
       "      <td>183381</td>\n",
       "      <td>C</td>\n",
       "      <td>T</td>\n",
       "      <td>Pathogenic</td>\n",
       "      <td>Immunodeficiency_38_with_basal_ganglia_calcifi...</td>\n",
       "      <td>ISG15:9636</td>\n",
       "    </tr>\n",
       "    <tr>\n",
       "      <th>3</th>\n",
       "      <td>1</td>\n",
       "      <td>1014179</td>\n",
       "      <td>542075</td>\n",
       "      <td>C</td>\n",
       "      <td>T</td>\n",
       "      <td>Uncertain_significance</td>\n",
       "      <td>Immunodeficiency_38_with_basal_ganglia_calcifi...</td>\n",
       "      <td>ISG15:9636</td>\n",
       "    </tr>\n",
       "    <tr>\n",
       "      <th>4</th>\n",
       "      <td>1</td>\n",
       "      <td>1014217</td>\n",
       "      <td>475278</td>\n",
       "      <td>C</td>\n",
       "      <td>T</td>\n",
       "      <td>Benign</td>\n",
       "      <td>Immunodeficiency_38_with_basal_ganglia_calcifi...</td>\n",
       "      <td>ISG15:9636</td>\n",
       "    </tr>\n",
       "  </tbody>\n",
       "</table>\n",
       "</div>"
      ],
      "text/plain": [
       "  CHROM      POS      ID REF ALT                  CLNSIG  \\\n",
       "0     1  1014O42  475283   G   A                  Benign   \n",
       "1     1  1O14122  542074   C   T  Uncertain_significance   \n",
       "2     1  1014143  183381   C   T              Pathogenic   \n",
       "3     1  1014179  542075   C   T  Uncertain_significance   \n",
       "4     1  1014217  475278   C   T                  Benign   \n",
       "\n",
       "                                               CLNDN    GENEINFO  \n",
       "0  Immunodeficiency_38_with_basal_ganglia_calcifi...  ISG15:9636  \n",
       "1  Immunodeficiency_38_with_basal_ganglia_calcifi...  ISG15:9636  \n",
       "2  Immunodeficiency_38_with_basal_ganglia_calcifi...  ISG15:9636  \n",
       "3  Immunodeficiency_38_with_basal_ganglia_calcifi...  ISG15:9636  \n",
       "4  Immunodeficiency_38_with_basal_ganglia_calcifi...  ISG15:9636  "
      ]
     },
     "execution_count": 20,
     "metadata": {},
     "output_type": "execute_result"
    }
   ],
   "source": [
    "new_l=new_l[['CHROM', 'POS', 'ID', 'REF', 'ALT','CLNSIG','CLNDN','GENEINFO']]\n",
    "new_l.head()"
   ]
  },
  {
   "cell_type": "code",
   "execution_count": 21,
   "metadata": {
    "pycharm": {
     "name": "#%%\n"
    }
   },
   "outputs": [
    {
     "data": {
      "text/plain": [
       "not_specified                                                                                   14400\n",
       "Not_Given                                                                                       12670\n",
       "Hereditary_cancer-predisposing_syndrome                                                          2951\n",
       "Limb-girdle_muscular_dystrophy,_type_2J|Dilated_cardiomyopathy_1G                                2588\n",
       "Lynch_syndrome                                                                                   1717\n",
       "not_specified|not_provided                                                                       1190\n",
       "Hereditary_nonpolyposis_colon_cancer                                                             1095\n",
       "Alstrom_syndrome                                                                                  846\n",
       "Nemaline_myopathy_2                                                                               769\n",
       "Cardiovascular_phenotype                                                                          742\n",
       "Limb-girdle_muscular_dystrophy,_type_2J|Dilated_cardiomyopathy_1G|not_specified                   673\n",
       "Brugada_syndrome                                                                                  661\n",
       "Neuroblastoma_3                                                                                   596\n",
       "Hereditary_nonpolyposis_colon_cancer|Hereditary_cancer-predisposing_syndrome                      585\n",
       "Ehlers-Danlos_syndrome,_type_4                                                                    562\n",
       "Limb-girdle_muscular_dystrophy,_type_2J|Dilated_cardiomyopathy_1G|not_specified|not_provided      496\n",
       "Primary_pulmonary_hypertension                                                                    441\n",
       "Catecholaminergic_polymorphic_ventricular_tachycardia                                             435\n",
       "Renal_hamartomas_nephroblastomatosis_and_fetal_gigantism                                          397\n",
       "Inborn_genetic_diseases                                                                           382\n",
       "Name: CLNDN, dtype: int64"
      ]
     },
     "execution_count": 21,
     "metadata": {},
     "output_type": "execute_result"
    }
   ],
   "source": [
    "# CLNDN contains a list of disease names within the series\n",
    "new_l['CLNDN'].value_counts()[:20]"
   ]
  },
  {
   "cell_type": "markdown",
   "metadata": {
    "pycharm": {
     "name": "#%% md\n"
    }
   },
   "source": [
    "Disease name column could be useful but i need to understand more about the context its being used in this dataset, since i'm not sure if it indeed suggests the person has this illness, possibly the Clinical significance colummn could provide more information."
   ]
  },
  {
   "cell_type": "code",
   "execution_count": 22,
   "metadata": {
    "pycharm": {
     "name": "#%%\n"
    }
   },
   "outputs": [
    {
     "data": {
      "text/plain": [
       "TTN:7273|TTN-AS1:100506866           6294\n",
       "TTN:7273                             4817\n",
       "MSH6:2956                            3507\n",
       "MSH2:4436                            2913\n",
       "MLH1:4292                            2337\n",
       "RYR2:6262                            1603\n",
       "BARD1:580                            1389\n",
       "NEB:4703                             1366\n",
       "SCN5A:6331                           1304\n",
       "ALMS1:7840                           1258\n",
       "USH2A:7399                           1195\n",
       "COL6A3:1293                          1070\n",
       "DYSF:8291                            1007\n",
       "MUTYH:4595                            955\n",
       "COL3A1:1281                           947\n",
       "ABCA4:24                              905\n",
       "LMNA:4000                             805\n",
       "ALK:238                               800\n",
       "SCN1A:6323|LOC102724058:102724058     724\n",
       "SCN1A:6323                            683\n",
       "Name: GENEINFO, dtype: int64"
      ]
     },
     "execution_count": 22,
     "metadata": {},
     "output_type": "execute_result"
    }
   ],
   "source": [
    "# GENEINFO contains a list of dictionaries within the series\n",
    "new_l['GENEINFO'].value_counts()[:20]"
   ]
  },
  {
   "cell_type": "markdown",
   "metadata": {
    "pycharm": {
     "name": "#%% md\n"
    }
   },
   "source": [
    "Gene names do not appear to be useful since I do not understand the signifance or risk level of specific genes"
   ]
  },
  {
   "cell_type": "code",
   "execution_count": 23,
   "metadata": {
    "pycharm": {
     "name": "#%%\n"
    }
   },
   "outputs": [
    {
     "data": {
      "text/plain": [
       "Uncertain_significance                                                                      47980\n",
       "Likely_benign                                                                               17885\n",
       "Pathogenic                                                                                  12313\n",
       "Likely_pathogenic                                                                            6269\n",
       "Benign                                                                                       6138\n",
       "Conflicting_interpretations_of_pathogenicity                                                 5404\n",
       "Benign/Likely_benign                                                                         3338\n",
       "Not_Given                                                                                    1797\n",
       "Pathogenic/Likely_pathogenic                                                                  854\n",
       "risk_factor                                                                                    98\n",
       "association                                                                                    70\n",
       "drug_response                                                                                  41\n",
       "Affects                                                                                        31\n",
       "Conflicting_interpretations_of_pathogenicity,_risk_factor                                      14\n",
       "other                                                                                          12\n",
       "Pathogenic,_risk_factor                                                                        11\n",
       "Conflicting_interpretations_of_pathogenicity,_other                                             8\n",
       "Pathogenic/Likely_pathogenic,_other                                                             8\n",
       "Benign/Likely_benign,_risk_factor                                                               7\n",
       "protective                                                                                      6\n",
       "Pathogenic/Likely_pathogenic,_risk_factor                                                       6\n",
       "Likely_pathogenic,_risk_factor                                                                  5\n",
       "protective,_risk_factor                                                                         4\n",
       "Pathogenic,_other                                                                               2\n",
       "Pathogenic,_Affects                                                                             2\n",
       "Uncertain_significance,_risk_factor                                                             1\n",
       "Benign/Likely_benign,_protective                                                                1\n",
       "Affects,_risk_factor                                                                            1\n",
       "Conflicting_interpretations_of_pathogenicity,_protective                                        1\n",
       "Likely_pathogenic,_other                                                                        1\n",
       "Conflicting_interpretations_of_pathogenicity,_Affects,_other                                    1\n",
       "Benign,_drug_response                                                                           1\n",
       "Conflicting_interpretations_of_pathogenicity,_Affects,_association,_drug_response,_other        1\n",
       "Pathogenic,_protective                                                                          1\n",
       "Benign,_other                                                                                   1\n",
       "Likely_pathogenic,_association                                                                  1\n",
       "Conflicting_interpretations_of_pathogenicity,_Affects                                           1\n",
       "Pathogenic,_association,_protective                                                             1\n",
       "Likely_benign,_other                                                                            1\n",
       "Benign/Likely_benign,_other                                                                     1\n",
       "Conflicting_interpretations_of_pathogenicity,_other,_risk_factor                                1\n",
       "Conflicting_interpretations_of_pathogenicity,_association                                       1\n",
       "Benign/Likely_benign,_association                                                               1\n",
       "Name: CLNSIG, dtype: int64"
      ]
     },
     "execution_count": 23,
     "metadata": {},
     "output_type": "execute_result"
    }
   ],
   "source": [
    "new_l['CLNSIG'].value_counts()"
   ]
  },
  {
   "cell_type": "markdown",
   "metadata": {
    "pycharm": {
     "name": "#%% md\n"
    }
   },
   "source": [
    "The clinical significance column appear provide the neccessary level of detail to make an assumption about the risk of gene combindations.\n",
    "\n",
    "I observe that many columns contain the words pathogenic, i assume that the records containing this language will most often contain a dangerous combination."
   ]
  },
  {
   "cell_type": "code",
   "execution_count": 24,
   "metadata": {},
   "outputs": [
    {
     "data": {
      "text/plain": [
       "array(['Pathogenic', 'Conflicting_interpretations_of_pathogenicity',\n",
       "       'Likely_pathogenic', 'Pathogenic/Likely_pathogenic',\n",
       "       'Pathogenic,_risk_factor',\n",
       "       'Conflicting_interpretations_of_pathogenicity,_other,_risk_factor',\n",
       "       'Conflicting_interpretations_of_pathogenicity,_risk_factor',\n",
       "       'Conflicting_interpretations_of_pathogenicity,_other',\n",
       "       'Pathogenic/Likely_pathogenic,_risk_factor',\n",
       "       'Likely_pathogenic,_risk_factor',\n",
       "       'Conflicting_interpretations_of_pathogenicity,_association',\n",
       "       'Pathogenic/Likely_pathogenic,_other', 'Pathogenic,_other',\n",
       "       'Pathogenic,_association,_protective',\n",
       "       'Conflicting_interpretations_of_pathogenicity,_Affects',\n",
       "       'Likely_pathogenic,_association', 'Pathogenic,_protective',\n",
       "       'Conflicting_interpretations_of_pathogenicity,_Affects,_association,_drug_response,_other',\n",
       "       'Conflicting_interpretations_of_pathogenicity,_Affects,_other',\n",
       "       'Pathogenic,_Affects', 'Likely_pathogenic,_other',\n",
       "       'Conflicting_interpretations_of_pathogenicity,_protective'],\n",
       "      dtype=object)"
      ]
     },
     "execution_count": 24,
     "metadata": {},
     "output_type": "execute_result"
    }
   ],
   "source": [
    "new_l['CLNSIG'][new_l['CLNSIG'].str.contains('pathogenic',case=False)].unique()"
   ]
  },
  {
   "cell_type": "markdown",
   "metadata": {},
   "source": [
    "We take the data that contains the word pathogenic"
   ]
  },
  {
   "cell_type": "code",
   "execution_count": 25,
   "metadata": {
    "pycharm": {
     "name": "#%%\n"
    }
   },
   "outputs": [
    {
     "data": {
      "text/plain": [
       "75.65895563960477"
      ]
     },
     "execution_count": 25,
     "metadata": {},
     "output_type": "execute_result"
    }
   ],
   "source": [
    "df_signif = new_l[new_l['CLNSIG'].str.contains('pathogenic',case=False)]\n",
    "(len(new_l)-len(df_signif))/len(new_l) * 100"
   ]
  },
  {
   "cell_type": "markdown",
   "metadata": {},
   "source": [
    "We've removed nearly $25%$% of records by using pathogenic."
   ]
  },
  {
   "cell_type": "code",
   "execution_count": 26,
   "metadata": {},
   "outputs": [
    {
     "data": {
      "text/plain": [
       "Pathogenic                                                                                  12313\n",
       "Likely_pathogenic                                                                            6269\n",
       "Conflicting_interpretations_of_pathogenicity                                                 5404\n",
       "Pathogenic/Likely_pathogenic                                                                  854\n",
       "Conflicting_interpretations_of_pathogenicity,_risk_factor                                      14\n",
       "Pathogenic,_risk_factor                                                                        11\n",
       "Conflicting_interpretations_of_pathogenicity,_other                                             8\n",
       "Pathogenic/Likely_pathogenic,_other                                                             8\n",
       "Pathogenic/Likely_pathogenic,_risk_factor                                                       6\n",
       "Likely_pathogenic,_risk_factor                                                                  5\n",
       "Pathogenic,_other                                                                               2\n",
       "Pathogenic,_Affects                                                                             2\n",
       "Conflicting_interpretations_of_pathogenicity,_association                                       1\n",
       "Conflicting_interpretations_of_pathogenicity,_other,_risk_factor                                1\n",
       "Pathogenic,_association,_protective                                                             1\n",
       "Conflicting_interpretations_of_pathogenicity,_Affects                                           1\n",
       "Likely_pathogenic,_association                                                                  1\n",
       "Pathogenic,_protective                                                                          1\n",
       "Conflicting_interpretations_of_pathogenicity,_Affects,_association,_drug_response,_other        1\n",
       "Conflicting_interpretations_of_pathogenicity,_Affects,_other                                    1\n",
       "Likely_pathogenic,_other                                                                        1\n",
       "Conflicting_interpretations_of_pathogenicity,_protective                                        1\n",
       "Name: CLNSIG, dtype: int64"
      ]
     },
     "execution_count": 26,
     "metadata": {},
     "output_type": "execute_result"
    }
   ],
   "source": [
    "df_signif['CLNSIG'].value_counts()"
   ]
  },
  {
   "cell_type": "markdown",
   "metadata": {},
   "source": [
    "`Conflicting interpretations` does not appear to be a dangerous mutation."
   ]
  },
  {
   "cell_type": "code",
   "execution_count": 27,
   "metadata": {},
   "outputs": [
    {
     "data": {
      "text/plain": [
       "array(['Conflicting_interpretations_of_pathogenicity',\n",
       "       'Conflicting_interpretations_of_pathogenicity,_other,_risk_factor',\n",
       "       'Conflicting_interpretations_of_pathogenicity,_risk_factor',\n",
       "       'Conflicting_interpretations_of_pathogenicity,_other',\n",
       "       'Conflicting_interpretations_of_pathogenicity,_association',\n",
       "       'Conflicting_interpretations_of_pathogenicity,_Affects',\n",
       "       'Conflicting_interpretations_of_pathogenicity,_Affects,_association,_drug_response,_other',\n",
       "       'Conflicting_interpretations_of_pathogenicity,_Affects,_other',\n",
       "       'Conflicting_interpretations_of_pathogenicity,_protective'],\n",
       "      dtype=object)"
      ]
     },
     "execution_count": 27,
     "metadata": {},
     "output_type": "execute_result"
    }
   ],
   "source": [
    "df_signif['CLNSIG'][df_signif['CLNSIG'].str.contains('Conflicting_interpretations')].unique()"
   ]
  },
  {
   "cell_type": "markdown",
   "metadata": {},
   "source": [
    "We'll omit `Conflicting interpretations` from the results set since it does not appear to signify a definitive disease risk level."
   ]
  },
  {
   "cell_type": "code",
   "execution_count": 28,
   "metadata": {},
   "outputs": [],
   "source": [
    "signif_pathogens=df_signif[~df_signif['CLNSIG'].str.contains('Conflicting_interpretations')]"
   ]
  },
  {
   "cell_type": "code",
   "execution_count": 29,
   "metadata": {
    "pycharm": {
     "name": "#%%\n"
    }
   },
   "outputs": [
    {
     "data": {
      "text/plain": [
       "(19474, 8)"
      ]
     },
     "execution_count": 29,
     "metadata": {},
     "output_type": "execute_result"
    }
   ],
   "source": [
    "signif_pathogens.shape"
   ]
  },
  {
   "cell_type": "code",
   "execution_count": 30,
   "metadata": {},
   "outputs": [
    {
     "data": {
      "text/html": [
       "<div>\n",
       "<style scoped>\n",
       "    .dataframe tbody tr th:only-of-type {\n",
       "        vertical-align: middle;\n",
       "    }\n",
       "\n",
       "    .dataframe tbody tr th {\n",
       "        vertical-align: top;\n",
       "    }\n",
       "\n",
       "    .dataframe thead th {\n",
       "        text-align: right;\n",
       "    }\n",
       "</style>\n",
       "<table border=\"1\" class=\"dataframe\">\n",
       "  <thead>\n",
       "    <tr style=\"text-align: right;\">\n",
       "      <th></th>\n",
       "      <th>CHROM</th>\n",
       "      <th>POS</th>\n",
       "      <th>ID</th>\n",
       "      <th>REF</th>\n",
       "      <th>ALT</th>\n",
       "      <th>CLNSIG</th>\n",
       "      <th>CLNDN</th>\n",
       "      <th>GENEINFO</th>\n",
       "    </tr>\n",
       "  </thead>\n",
       "  <tbody>\n",
       "    <tr>\n",
       "      <th>2</th>\n",
       "      <td>1</td>\n",
       "      <td>1014143</td>\n",
       "      <td>183381</td>\n",
       "      <td>C</td>\n",
       "      <td>T</td>\n",
       "      <td>Pathogenic</td>\n",
       "      <td>Immunodeficiency_38_with_basal_ganglia_calcifi...</td>\n",
       "      <td>ISG15:9636</td>\n",
       "    </tr>\n",
       "    <tr>\n",
       "      <th>8</th>\n",
       "      <td>1</td>\n",
       "      <td>1014316</td>\n",
       "      <td>161455</td>\n",
       "      <td>C</td>\n",
       "      <td>CG</td>\n",
       "      <td>Pathogenic</td>\n",
       "      <td>Immunodeficiency_38_with_basal_ganglia_calcifi...</td>\n",
       "      <td>ISG15:9636</td>\n",
       "    </tr>\n",
       "    <tr>\n",
       "      <th>9</th>\n",
       "      <td>1</td>\n",
       "      <td>1014359</td>\n",
       "      <td>161454</td>\n",
       "      <td>G</td>\n",
       "      <td>T</td>\n",
       "      <td>Pathogenic</td>\n",
       "      <td>Immunodeficiency_38_with_basal_ganglia_calcifi...</td>\n",
       "      <td>ISG15:9636</td>\n",
       "    </tr>\n",
       "    <tr>\n",
       "      <th>24</th>\n",
       "      <td>1</td>\n",
       "      <td>1022225</td>\n",
       "      <td>243036</td>\n",
       "      <td>G</td>\n",
       "      <td>A</td>\n",
       "      <td>Pathogenic</td>\n",
       "      <td>Congenital_myasthenic_syndrome</td>\n",
       "      <td>AGRN:375790</td>\n",
       "    </tr>\n",
       "    <tr>\n",
       "      <th>26</th>\n",
       "      <td>1</td>\n",
       "      <td>1022313</td>\n",
       "      <td>243037</td>\n",
       "      <td>A</td>\n",
       "      <td>T</td>\n",
       "      <td>Pathogenic</td>\n",
       "      <td>Congenital_myasthenic_syndrome</td>\n",
       "      <td>AGRN:375790</td>\n",
       "    </tr>\n",
       "    <tr>\n",
       "      <th>...</th>\n",
       "      <td>...</td>\n",
       "      <td>...</td>\n",
       "      <td>...</td>\n",
       "      <td>...</td>\n",
       "      <td>...</td>\n",
       "      <td>...</td>\n",
       "      <td>...</td>\n",
       "      <td>...</td>\n",
       "    </tr>\n",
       "    <tr>\n",
       "      <th>852</th>\n",
       "      <td>1</td>\n",
       "      <td>2406528</td>\n",
       "      <td>197886</td>\n",
       "      <td>G</td>\n",
       "      <td>GC</td>\n",
       "      <td>Pathogenic</td>\n",
       "      <td>Not_Given</td>\n",
       "      <td>PEX10:5192</td>\n",
       "    </tr>\n",
       "    <tr>\n",
       "      <th>857</th>\n",
       "      <td>1</td>\n",
       "      <td>2406561</td>\n",
       "      <td>282334</td>\n",
       "      <td>C</td>\n",
       "      <td>A</td>\n",
       "      <td>Pathogenic</td>\n",
       "      <td>Not_Given</td>\n",
       "      <td>PEX10:5192</td>\n",
       "    </tr>\n",
       "    <tr>\n",
       "      <th>862</th>\n",
       "      <td>1</td>\n",
       "      <td>2406580</td>\n",
       "      <td>555297</td>\n",
       "      <td>CA</td>\n",
       "      <td>C</td>\n",
       "      <td>Likely_pathogenic</td>\n",
       "      <td>Peroxisome_biogenesis_disorder_6A|Peroxisome_b...</td>\n",
       "      <td>PEX10:5192</td>\n",
       "    </tr>\n",
       "    <tr>\n",
       "      <th>863</th>\n",
       "      <td>1</td>\n",
       "      <td>2406580</td>\n",
       "      <td>296273</td>\n",
       "      <td>CAG</td>\n",
       "      <td>C</td>\n",
       "      <td>Pathogenic</td>\n",
       "      <td>Zellweger_syndrome|Peroxisome_biogenesis_disor...</td>\n",
       "      <td>PEX10:5192</td>\n",
       "    </tr>\n",
       "    <tr>\n",
       "      <th>866</th>\n",
       "      <td>1</td>\n",
       "      <td>2406599</td>\n",
       "      <td>553074</td>\n",
       "      <td>GCT</td>\n",
       "      <td>G</td>\n",
       "      <td>Likely_pathogenic</td>\n",
       "      <td>Peroxisome_biogenesis_disorder_6A|Peroxisome_b...</td>\n",
       "      <td>PEX10:5192</td>\n",
       "    </tr>\n",
       "  </tbody>\n",
       "</table>\n",
       "<p>100 rows × 8 columns</p>\n",
       "</div>"
      ],
      "text/plain": [
       "    CHROM      POS      ID  REF ALT             CLNSIG  \\\n",
       "2       1  1014143  183381    C   T         Pathogenic   \n",
       "8       1  1014316  161455    C  CG         Pathogenic   \n",
       "9       1  1014359  161454    G   T         Pathogenic   \n",
       "24      1  1022225  243036    G   A         Pathogenic   \n",
       "26      1  1022313  243037    A   T         Pathogenic   \n",
       "..    ...      ...     ...  ...  ..                ...   \n",
       "852     1  2406528  197886    G  GC         Pathogenic   \n",
       "857     1  2406561  282334    C   A         Pathogenic   \n",
       "862     1  2406580  555297   CA   C  Likely_pathogenic   \n",
       "863     1  2406580  296273  CAG   C         Pathogenic   \n",
       "866     1  2406599  553074  GCT   G  Likely_pathogenic   \n",
       "\n",
       "                                                 CLNDN     GENEINFO  \n",
       "2    Immunodeficiency_38_with_basal_ganglia_calcifi...   ISG15:9636  \n",
       "8    Immunodeficiency_38_with_basal_ganglia_calcifi...   ISG15:9636  \n",
       "9    Immunodeficiency_38_with_basal_ganglia_calcifi...   ISG15:9636  \n",
       "24                      Congenital_myasthenic_syndrome  AGRN:375790  \n",
       "26                      Congenital_myasthenic_syndrome  AGRN:375790  \n",
       "..                                                 ...          ...  \n",
       "852                                          Not_Given   PEX10:5192  \n",
       "857                                          Not_Given   PEX10:5192  \n",
       "862  Peroxisome_biogenesis_disorder_6A|Peroxisome_b...   PEX10:5192  \n",
       "863  Zellweger_syndrome|Peroxisome_biogenesis_disor...   PEX10:5192  \n",
       "866  Peroxisome_biogenesis_disorder_6A|Peroxisome_b...   PEX10:5192  \n",
       "\n",
       "[100 rows x 8 columns]"
      ]
     },
     "execution_count": 30,
     "metadata": {},
     "output_type": "execute_result"
    }
   ],
   "source": [
    "signif_pathogens.head(100)"
   ]
  },
  {
   "cell_type": "markdown",
   "metadata": {
    "pycharm": {
     "name": "#%% md\n"
    }
   },
   "source": [
    "4) Please Write your assumptions here:\n",
    "\n",
    "- Records with clinical significance containing the term \"pathogen\" that are not described as \"Conflicting interpretations\" suggest this mutation is potentially dangerous. The columns omitted from the final results do not contain relevant information to identify potentially dangerous mutations."
   ]
  },
  {
   "cell_type": "markdown",
   "metadata": {
    "pycharm": {
     "name": "#%% md\n"
    }
   },
   "source": [
    "4) Findings / What would you present to your boss?\n",
    "\n",
    "- I've prepared a list of 19k pathogenic and likely pathogenic mutations of diseases, the first 100 of these obversations are listed in the attached file. Not all mutations and gene combindations have an indication of the disease they are likely to cause but they have been included since they are likely to be flagged as pathogenic. Further analysis might include grouping genes by likely disease to share information with various research groups looking to identify causes of various dangerous diseases."
   ]
  }
 ],
 "metadata": {
  "kernelspec": {
   "display_name": "Python 3 (ipykernel)",
   "language": "python",
   "name": "python3"
  },
  "language_info": {
   "codemirror_mode": {
    "name": "ipython",
    "version": 3
   },
   "file_extension": ".py",
   "mimetype": "text/x-python",
   "name": "python",
   "nbconvert_exporter": "python",
   "pygments_lexer": "ipython3",
   "version": "3.8.2"
  }
 },
 "nbformat": 4,
 "nbformat_minor": 4
}
